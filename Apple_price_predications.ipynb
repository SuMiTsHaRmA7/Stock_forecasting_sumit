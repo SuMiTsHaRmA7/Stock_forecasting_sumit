{
 "cells": [
  {
   "cell_type": "code",
   "execution_count": 1,
   "id": "9665090c",
   "metadata": {},
   "outputs": [],
   "source": [
    "# importing the required library\n",
    "import pandas as pd"
   ]
  },
  {
   "cell_type": "code",
   "execution_count": 2,
   "id": "592bd366",
   "metadata": {},
   "outputs": [
    {
     "name": "stdout",
     "output_type": "stream",
     "text": [
      "Requirement already satisfied: pandas-datareader in c:\\users\\lenovo\\anaconda3\\lib\\site-packages (0.10.0)\n",
      "Requirement already satisfied: requests>=2.19.0 in c:\\users\\lenovo\\anaconda3\\lib\\site-packages (from pandas-datareader) (2.28.1)\n",
      "Requirement already satisfied: pandas>=0.23 in c:\\users\\lenovo\\anaconda3\\lib\\site-packages (from pandas-datareader) (1.5.3)\n",
      "Requirement already satisfied: lxml in c:\\users\\lenovo\\anaconda3\\lib\\site-packages (from pandas-datareader) (4.9.1)\n",
      "Requirement already satisfied: numpy>=1.21.0 in c:\\users\\lenovo\\anaconda3\\lib\\site-packages (from pandas>=0.23->pandas-datareader) (1.23.5)\n",
      "Requirement already satisfied: python-dateutil>=2.8.1 in c:\\users\\lenovo\\anaconda3\\lib\\site-packages (from pandas>=0.23->pandas-datareader) (2.8.2)\n",
      "Requirement already satisfied: pytz>=2020.1 in c:\\users\\lenovo\\anaconda3\\lib\\site-packages (from pandas>=0.23->pandas-datareader) (2022.7)\n",
      "Requirement already satisfied: certifi>=2017.4.17 in c:\\users\\lenovo\\anaconda3\\lib\\site-packages (from requests>=2.19.0->pandas-datareader) (2023.5.7)\n",
      "Requirement already satisfied: idna<4,>=2.5 in c:\\users\\lenovo\\anaconda3\\lib\\site-packages (from requests>=2.19.0->pandas-datareader) (3.4)\n",
      "Requirement already satisfied: urllib3<1.27,>=1.21.1 in c:\\users\\lenovo\\anaconda3\\lib\\site-packages (from requests>=2.19.0->pandas-datareader) (1.26.14)\n",
      "Requirement already satisfied: charset-normalizer<3,>=2 in c:\\users\\lenovo\\anaconda3\\lib\\site-packages (from requests>=2.19.0->pandas-datareader) (2.0.4)\n",
      "Requirement already satisfied: six>=1.5 in c:\\users\\lenovo\\anaconda3\\lib\\site-packages (from python-dateutil>=2.8.1->pandas>=0.23->pandas-datareader) (1.16.0)\n",
      "Note: you may need to restart the kernel to use updated packages.\n"
     ]
    }
   ],
   "source": [
    "pip install pandas-datareader"
   ]
  },
  {
   "cell_type": "code",
   "execution_count": 2,
   "id": "71cd1112",
   "metadata": {},
   "outputs": [],
   "source": [
    "import pandas_datareader as pdr\n",
    "key =\"0f6891050a797b3ec33b81a17ac25f84253f80cf\""
   ]
  },
  {
   "cell_type": "code",
   "execution_count": 3,
   "id": "f2be5b1c",
   "metadata": {},
   "outputs": [
    {
     "name": "stdout",
     "output_type": "stream",
     "text": [
      "IBM\n"
     ]
    }
   ],
   "source": [
    "inp = input()"
   ]
  },
  {
   "cell_type": "code",
   "execution_count": 4,
   "id": "e1fb050e",
   "metadata": {},
   "outputs": [
    {
     "name": "stderr",
     "output_type": "stream",
     "text": [
      "C:\\Users\\Lenovo\\AppData\\Local\\Temp\\ipykernel_4196\\4131556387.py:1: FutureWarning: In a future version of pandas all arguments of concat except for the argument 'objs' will be keyword-only.\n",
      "  df = pdr.get_data_tiingo(inp, api_key = key)\n"
     ]
    }
   ],
   "source": [
    "df = pdr.get_data_tiingo(inp, api_key = key)"
   ]
  },
  {
   "cell_type": "code",
   "execution_count": 5,
   "id": "f6afb545",
   "metadata": {},
   "outputs": [
    {
     "data": {
      "text/html": [
       "<div>\n",
       "<style scoped>\n",
       "    .dataframe tbody tr th:only-of-type {\n",
       "        vertical-align: middle;\n",
       "    }\n",
       "\n",
       "    .dataframe tbody tr th {\n",
       "        vertical-align: top;\n",
       "    }\n",
       "\n",
       "    .dataframe thead th {\n",
       "        text-align: right;\n",
       "    }\n",
       "</style>\n",
       "<table border=\"1\" class=\"dataframe\">\n",
       "  <thead>\n",
       "    <tr style=\"text-align: right;\">\n",
       "      <th></th>\n",
       "      <th></th>\n",
       "      <th>close</th>\n",
       "      <th>high</th>\n",
       "      <th>low</th>\n",
       "      <th>open</th>\n",
       "      <th>volume</th>\n",
       "      <th>adjClose</th>\n",
       "      <th>adjHigh</th>\n",
       "      <th>adjLow</th>\n",
       "      <th>adjOpen</th>\n",
       "      <th>adjVolume</th>\n",
       "      <th>divCash</th>\n",
       "      <th>splitFactor</th>\n",
       "    </tr>\n",
       "    <tr>\n",
       "      <th>symbol</th>\n",
       "      <th>date</th>\n",
       "      <th></th>\n",
       "      <th></th>\n",
       "      <th></th>\n",
       "      <th></th>\n",
       "      <th></th>\n",
       "      <th></th>\n",
       "      <th></th>\n",
       "      <th></th>\n",
       "      <th></th>\n",
       "      <th></th>\n",
       "      <th></th>\n",
       "      <th></th>\n",
       "    </tr>\n",
       "  </thead>\n",
       "  <tbody>\n",
       "    <tr>\n",
       "      <th rowspan=\"11\" valign=\"top\">IBM</th>\n",
       "      <th>2018-12-11 00:00:00+00:00</th>\n",
       "      <td>120.89</td>\n",
       "      <td>123.8100</td>\n",
       "      <td>120.000</td>\n",
       "      <td>123.25</td>\n",
       "      <td>5043081</td>\n",
       "      <td>90.473156</td>\n",
       "      <td>92.658462</td>\n",
       "      <td>89.807087</td>\n",
       "      <td>92.239362</td>\n",
       "      <td>5275062</td>\n",
       "      <td>0.0</td>\n",
       "      <td>1.0</td>\n",
       "    </tr>\n",
       "    <tr>\n",
       "      <th>2018-12-12 00:00:00+00:00</th>\n",
       "      <td>121.16</td>\n",
       "      <td>122.8800</td>\n",
       "      <td>121.000</td>\n",
       "      <td>122.51</td>\n",
       "      <td>3560790</td>\n",
       "      <td>90.675222</td>\n",
       "      <td>91.962457</td>\n",
       "      <td>90.555480</td>\n",
       "      <td>91.685552</td>\n",
       "      <td>3724586</td>\n",
       "      <td>0.0</td>\n",
       "      <td>1.0</td>\n",
       "    </tr>\n",
       "    <tr>\n",
       "      <th>2018-12-13 00:00:00+00:00</th>\n",
       "      <td>120.73</td>\n",
       "      <td>121.7900</td>\n",
       "      <td>120.170</td>\n",
       "      <td>121.26</td>\n",
       "      <td>3993597</td>\n",
       "      <td>90.353414</td>\n",
       "      <td>91.146710</td>\n",
       "      <td>89.934314</td>\n",
       "      <td>90.750062</td>\n",
       "      <td>4177302</td>\n",
       "      <td>0.0</td>\n",
       "      <td>1.0</td>\n",
       "    </tr>\n",
       "    <tr>\n",
       "      <th>2018-12-14 00:00:00+00:00</th>\n",
       "      <td>119.90</td>\n",
       "      <td>121.1100</td>\n",
       "      <td>119.440</td>\n",
       "      <td>119.50</td>\n",
       "      <td>4554204</td>\n",
       "      <td>89.732248</td>\n",
       "      <td>90.637803</td>\n",
       "      <td>89.387987</td>\n",
       "      <td>89.432891</td>\n",
       "      <td>4763697</td>\n",
       "      <td>0.0</td>\n",
       "      <td>1.0</td>\n",
       "    </tr>\n",
       "    <tr>\n",
       "      <th>2018-12-17 00:00:00+00:00</th>\n",
       "      <td>116.10</td>\n",
       "      <td>119.7800</td>\n",
       "      <td>115.070</td>\n",
       "      <td>119.07</td>\n",
       "      <td>7374476</td>\n",
       "      <td>86.888357</td>\n",
       "      <td>89.642441</td>\n",
       "      <td>86.117513</td>\n",
       "      <td>89.111082</td>\n",
       "      <td>7713701</td>\n",
       "      <td>0.0</td>\n",
       "      <td>1.0</td>\n",
       "    </tr>\n",
       "    <tr>\n",
       "      <th>...</th>\n",
       "      <td>...</td>\n",
       "      <td>...</td>\n",
       "      <td>...</td>\n",
       "      <td>...</td>\n",
       "      <td>...</td>\n",
       "      <td>...</td>\n",
       "      <td>...</td>\n",
       "      <td>...</td>\n",
       "      <td>...</td>\n",
       "      <td>...</td>\n",
       "      <td>...</td>\n",
       "      <td>...</td>\n",
       "    </tr>\n",
       "    <tr>\n",
       "      <th>2021-07-06 00:00:00+00:00</th>\n",
       "      <td>138.78</td>\n",
       "      <td>140.4200</td>\n",
       "      <td>137.100</td>\n",
       "      <td>139.99</td>\n",
       "      <td>8093747</td>\n",
       "      <td>117.351866</td>\n",
       "      <td>118.738644</td>\n",
       "      <td>115.931264</td>\n",
       "      <td>118.375038</td>\n",
       "      <td>8466059</td>\n",
       "      <td>0.0</td>\n",
       "      <td>1.0</td>\n",
       "    </tr>\n",
       "    <tr>\n",
       "      <th>2021-07-07 00:00:00+00:00</th>\n",
       "      <td>139.82</td>\n",
       "      <td>140.3300</td>\n",
       "      <td>138.760</td>\n",
       "      <td>138.76</td>\n",
       "      <td>4059667</td>\n",
       "      <td>118.231287</td>\n",
       "      <td>118.662541</td>\n",
       "      <td>117.334954</td>\n",
       "      <td>117.334954</td>\n",
       "      <td>4246411</td>\n",
       "      <td>0.0</td>\n",
       "      <td>1.0</td>\n",
       "    </tr>\n",
       "    <tr>\n",
       "      <th>2021-07-08 00:00:00+00:00</th>\n",
       "      <td>140.74</td>\n",
       "      <td>141.3100</td>\n",
       "      <td>137.660</td>\n",
       "      <td>137.78</td>\n",
       "      <td>5487425</td>\n",
       "      <td>119.009235</td>\n",
       "      <td>119.491225</td>\n",
       "      <td>116.404798</td>\n",
       "      <td>116.506270</td>\n",
       "      <td>5739846</td>\n",
       "      <td>0.0</td>\n",
       "      <td>1.0</td>\n",
       "    </tr>\n",
       "    <tr>\n",
       "      <th>2021-07-09 00:00:00+00:00</th>\n",
       "      <td>141.52</td>\n",
       "      <td>141.9800</td>\n",
       "      <td>140.841</td>\n",
       "      <td>141.45</td>\n",
       "      <td>3904059</td>\n",
       "      <td>119.668800</td>\n",
       "      <td>120.057775</td>\n",
       "      <td>119.094641</td>\n",
       "      <td>119.609609</td>\n",
       "      <td>4083645</td>\n",
       "      <td>0.0</td>\n",
       "      <td>1.0</td>\n",
       "    </tr>\n",
       "    <tr>\n",
       "      <th>2021-07-12 00:00:00+00:00</th>\n",
       "      <td>140.92</td>\n",
       "      <td>141.9599</td>\n",
       "      <td>140.115</td>\n",
       "      <td>141.43</td>\n",
       "      <td>3342627</td>\n",
       "      <td>119.161443</td>\n",
       "      <td>120.040778</td>\n",
       "      <td>118.480738</td>\n",
       "      <td>119.592697</td>\n",
       "      <td>3496387</td>\n",
       "      <td>0.0</td>\n",
       "      <td>1.0</td>\n",
       "    </tr>\n",
       "  </tbody>\n",
       "</table>\n",
       "<p>650 rows × 12 columns</p>\n",
       "</div>"
      ],
      "text/plain": [
       "                                   close      high      low    open   volume  \\\n",
       "symbol date                                                                    \n",
       "IBM    2018-12-11 00:00:00+00:00  120.89  123.8100  120.000  123.25  5043081   \n",
       "       2018-12-12 00:00:00+00:00  121.16  122.8800  121.000  122.51  3560790   \n",
       "       2018-12-13 00:00:00+00:00  120.73  121.7900  120.170  121.26  3993597   \n",
       "       2018-12-14 00:00:00+00:00  119.90  121.1100  119.440  119.50  4554204   \n",
       "       2018-12-17 00:00:00+00:00  116.10  119.7800  115.070  119.07  7374476   \n",
       "...                                  ...       ...      ...     ...      ...   \n",
       "       2021-07-06 00:00:00+00:00  138.78  140.4200  137.100  139.99  8093747   \n",
       "       2021-07-07 00:00:00+00:00  139.82  140.3300  138.760  138.76  4059667   \n",
       "       2021-07-08 00:00:00+00:00  140.74  141.3100  137.660  137.78  5487425   \n",
       "       2021-07-09 00:00:00+00:00  141.52  141.9800  140.841  141.45  3904059   \n",
       "       2021-07-12 00:00:00+00:00  140.92  141.9599  140.115  141.43  3342627   \n",
       "\n",
       "                                    adjClose     adjHigh      adjLow  \\\n",
       "symbol date                                                            \n",
       "IBM    2018-12-11 00:00:00+00:00   90.473156   92.658462   89.807087   \n",
       "       2018-12-12 00:00:00+00:00   90.675222   91.962457   90.555480   \n",
       "       2018-12-13 00:00:00+00:00   90.353414   91.146710   89.934314   \n",
       "       2018-12-14 00:00:00+00:00   89.732248   90.637803   89.387987   \n",
       "       2018-12-17 00:00:00+00:00   86.888357   89.642441   86.117513   \n",
       "...                                      ...         ...         ...   \n",
       "       2021-07-06 00:00:00+00:00  117.351866  118.738644  115.931264   \n",
       "       2021-07-07 00:00:00+00:00  118.231287  118.662541  117.334954   \n",
       "       2021-07-08 00:00:00+00:00  119.009235  119.491225  116.404798   \n",
       "       2021-07-09 00:00:00+00:00  119.668800  120.057775  119.094641   \n",
       "       2021-07-12 00:00:00+00:00  119.161443  120.040778  118.480738   \n",
       "\n",
       "                                     adjOpen  adjVolume  divCash  splitFactor  \n",
       "symbol date                                                                    \n",
       "IBM    2018-12-11 00:00:00+00:00   92.239362    5275062      0.0          1.0  \n",
       "       2018-12-12 00:00:00+00:00   91.685552    3724586      0.0          1.0  \n",
       "       2018-12-13 00:00:00+00:00   90.750062    4177302      0.0          1.0  \n",
       "       2018-12-14 00:00:00+00:00   89.432891    4763697      0.0          1.0  \n",
       "       2018-12-17 00:00:00+00:00   89.111082    7713701      0.0          1.0  \n",
       "...                                      ...        ...      ...          ...  \n",
       "       2021-07-06 00:00:00+00:00  118.375038    8466059      0.0          1.0  \n",
       "       2021-07-07 00:00:00+00:00  117.334954    4246411      0.0          1.0  \n",
       "       2021-07-08 00:00:00+00:00  116.506270    5739846      0.0          1.0  \n",
       "       2021-07-09 00:00:00+00:00  119.609609    4083645      0.0          1.0  \n",
       "       2021-07-12 00:00:00+00:00  119.592697    3496387      0.0          1.0  \n",
       "\n",
       "[650 rows x 12 columns]"
      ]
     },
     "execution_count": 5,
     "metadata": {},
     "output_type": "execute_result"
    }
   ],
   "source": [
    "# df.to_csv('AAPL.csv')\n",
    "df.head(650)"
   ]
  },
  {
   "cell_type": "code",
   "execution_count": 5,
   "id": "4489ad0d",
   "metadata": {},
   "outputs": [
    {
     "data": {
      "text/plain": [
       "0    366.76\n",
       "1    366.60\n",
       "2    376.79\n",
       "3    365.71\n",
       "4    348.42\n",
       "Name: close, dtype: float64"
      ]
     },
     "execution_count": 5,
     "metadata": {},
     "output_type": "execute_result"
    }
   ],
   "source": [
    "df1 = df.reset_index()['close']\n",
    "df1.head(5)"
   ]
  },
  {
   "cell_type": "code",
   "execution_count": 6,
   "id": "3fb398bc",
   "metadata": {},
   "outputs": [
    {
     "data": {
      "text/plain": [
       "0       366.76\n",
       "1       366.60\n",
       "2       376.79\n",
       "3       365.71\n",
       "4       348.42\n",
       "         ...  \n",
       "1253    235.58\n",
       "1254    238.72\n",
       "1255    239.37\n",
       "1256    242.64\n",
       "1257    243.84\n",
       "Name: close, Length: 1258, dtype: float64"
      ]
     },
     "execution_count": 6,
     "metadata": {},
     "output_type": "execute_result"
    }
   ],
   "source": [
    "df1"
   ]
  },
  {
   "cell_type": "code",
   "execution_count": 7,
   "id": "ec77c360",
   "metadata": {},
   "outputs": [
    {
     "data": {
      "text/plain": [
       "[<matplotlib.lines.Line2D at 0x18e1a63f730>]"
      ]
     },
     "execution_count": 7,
     "metadata": {},
     "output_type": "execute_result"
    },
    {
     "data": {
      "image/png": "[encoded data removed]",
      "text/plain": [
       "<Figure size 640x480 with 1 Axes>"
      ]
     },
     "metadata": {},
     "output_type": "display_data"
    }
   ],
   "source": [
    "import matplotlib.pyplot as plt\n",
    "plt.plot(df1)"
   ]
  },
  {
   "cell_type": "code",
   "execution_count": 8,
   "id": "ffe9f2a4",
   "metadata": {},
   "outputs": [],
   "source": [
    "import numpy as np"
   ]
  },
  {
   "cell_type": "code",
   "execution_count": 9,
   "id": "2f59c4c7",
   "metadata": {},
   "outputs": [],
   "source": [
    "from sklearn.preprocessing import MinMaxScaler\n",
    "scaler = MinMaxScaler(feature_range=(0,1))\n",
    "df1 = scaler.fit_transform(np.array(df1).reshape(-1,1))"
   ]
  },
  {
   "cell_type": "code",
   "execution_count": 10,
   "id": "514f9ce3",
   "metadata": {},
   "outputs": [
    {
     "data": {
      "text/plain": [
       "array([[0.12064393],\n",
       "       [0.12139957],\n",
       "       [0.12132448],\n",
       "       ...,\n",
       "       [0.06161031],\n",
       "       [0.06314505],\n",
       "       [0.06370826]])"
      ]
     },
     "execution_count": 10,
     "metadata": {},
     "output_type": "execute_result"
    }
   ],
   "source": [
    "df1"
   ]
  },
  {
   "cell_type": "code",
   "execution_count": 11,
   "id": "05529778",
   "metadata": {},
   "outputs": [
    {
     "data": {
      "text/plain": [
       "(818, 441)"
      ]
     },
     "execution_count": 11,
     "metadata": {},
     "output_type": "execute_result"
    }
   ],
   "source": [
    "train_size = int(len(df1)*0.65)\n",
    "test_size = len(df1)-train_size\n",
    "train_size,test_size"
   ]
  },
  {
   "cell_type": "code",
   "execution_count": 12,
   "id": "67bf537c",
   "metadata": {},
   "outputs": [
    {
     "data": {
      "text/plain": [
       "(818, 1)"
      ]
     },
     "execution_count": 12,
     "metadata": {},
     "output_type": "execute_result"
    }
   ],
   "source": [
    "train_data = df1[0:train_size,:]\n",
    "train_data.shape"
   ]
  },
  {
   "cell_type": "code",
   "execution_count": 13,
   "id": "98399984",
   "metadata": {},
   "outputs": [
    {
     "data": {
      "text/plain": [
       "(441, 1)"
      ]
     },
     "execution_count": 13,
     "metadata": {},
     "output_type": "execute_result"
    }
   ],
   "source": [
    "test_data = df1[train_size:len(df1),:1]\n",
    "test_data.shape"
   ]
  },
  {
   "cell_type": "code",
   "execution_count": 14,
   "id": "a99d411c",
   "metadata": {},
   "outputs": [],
   "source": [
    "import numpy\n",
    "def create_dataset(dataset, time_step=1):\n",
    "    dataX,dataY = [],[]\n",
    "    for i in range(len(dataset)-time_step-1):\n",
    "        a = dataset[i:(i+time_step),0]\n",
    "        dataX.append(a)\n",
    "        dataY.append(dataset[i + time_step, 0])\n",
    "    return numpy.array(dataX), numpy.array(dataY)"
   ]
  },
  {
   "cell_type": "code",
   "execution_count": 15,
   "id": "699d2dc4",
   "metadata": {},
   "outputs": [],
   "source": [
    "time_step = 100\n",
    "X_train, y_train = create_dataset(train_data, time_step)\n",
    "X_test, ytest = create_dataset(test_data, time_step)"
   ]
  },
  {
   "cell_type": "code",
   "execution_count": 16,
   "id": "8da5f4b0",
   "metadata": {},
   "outputs": [
    {
     "name": "stdout",
     "output_type": "stream",
     "text": [
      "[[0.12064393 0.12139957 0.12132448 ... 0.05909464 0.06383029 0.06896018]\n",
      " [0.12139957 0.12132448 0.12610706 ... 0.06383029 0.06896018 0.06910567]\n",
      " [0.12132448 0.12610706 0.12090677 ... 0.06896018 0.06910567 0.06521953]\n",
      " ...\n",
      " [0.3209537  0.32742121 0.32993687 ... 0.35494802 0.36223218 0.34317696]\n",
      " [0.32742121 0.32993687 0.3333349  ... 0.36223218 0.34317696 0.34270762]\n",
      " [0.32993687 0.3333349  0.3449323  ... 0.34317696 0.34270762 0.32688616]]\n"
     ]
    }
   ],
   "source": [
    "print(X_train)"
   ]
  },
  {
   "cell_type": "code",
   "execution_count": 17,
   "id": "304e05e4",
   "metadata": {},
   "outputs": [
    {
     "name": "stdout",
     "output_type": "stream",
     "text": [
      "(717, 100)\n",
      "(340,)\n"
     ]
    },
    {
     "data": {
      "text/plain": [
       "(None, None)"
      ]
     },
     "execution_count": 17,
     "metadata": {},
     "output_type": "execute_result"
    }
   ],
   "source": [
    "print(X_train.shape), print(ytest.shape)"
   ]
  },
  {
   "cell_type": "code",
   "execution_count": 18,
   "id": "8ea3cb37",
   "metadata": {},
   "outputs": [
    {
     "name": "stdout",
     "output_type": "stream",
     "text": [
      "(717, 100)\n",
      "(717,)\n"
     ]
    },
    {
     "data": {
      "text/plain": [
       "(None, None)"
      ]
     },
     "execution_count": 18,
     "metadata": {},
     "output_type": "execute_result"
    }
   ],
   "source": [
    "print(X_train.shape), print(y_train.shape)"
   ]
  },
  {
   "cell_type": "code",
   "execution_count": 19,
   "id": "f1db7d7e",
   "metadata": {},
   "outputs": [
    {
     "data": {
      "text/plain": [
       "array([[[0.12064393],\n",
       "        [0.12139957],\n",
       "        [0.12132448],\n",
       "        ...,\n",
       "        [0.05909464],\n",
       "        [0.06383029],\n",
       "        [0.06896018]],\n",
       "\n",
       "       [[0.12139957],\n",
       "        [0.12132448],\n",
       "        [0.12610706],\n",
       "        ...,\n",
       "        [0.06383029],\n",
       "        [0.06896018],\n",
       "        [0.06910567]],\n",
       "\n",
       "       [[0.12132448],\n",
       "        [0.12610706],\n",
       "        [0.12090677],\n",
       "        ...,\n",
       "        [0.06896018],\n",
       "        [0.06910567],\n",
       "        [0.06521953]],\n",
       "\n",
       "       ...,\n",
       "\n",
       "       [[0.3209537 ],\n",
       "        [0.32742121],\n",
       "        [0.32993687],\n",
       "        ...,\n",
       "        [0.35494802],\n",
       "        [0.36223218],\n",
       "        [0.34317696]],\n",
       "\n",
       "       [[0.32742121],\n",
       "        [0.32993687],\n",
       "        [0.3333349 ],\n",
       "        ...,\n",
       "        [0.36223218],\n",
       "        [0.34317696],\n",
       "        [0.34270762]],\n",
       "\n",
       "       [[0.32993687],\n",
       "        [0.3333349 ],\n",
       "        [0.3449323 ],\n",
       "        ...,\n",
       "        [0.34317696],\n",
       "        [0.34270762],\n",
       "        [0.32688616]]])"
      ]
     },
     "execution_count": 19,
     "metadata": {},
     "output_type": "execute_result"
    }
   ],
   "source": [
    "X_train = X_train.reshape(X_train.shape[0],X_train.shape[1] , 1)\n",
    "X_test = X_test.reshape(X_test.shape[0],X_test.shape[1] , 1)\n",
    "X_train"
   ]
  },
  {
   "cell_type": "code",
   "execution_count": 21,
   "id": "ff2ac4aa",
   "metadata": {},
   "outputs": [],
   "source": [
    "from tensorflow.keras.models import Sequential\n",
    "from tensorflow.keras.layers import Dense\n",
    "from tensorflow.keras.layers import LSTM"
   ]
  },
  {
   "cell_type": "code",
   "execution_count": 22,
   "id": "f0194c52",
   "metadata": {},
   "outputs": [],
   "source": [
    "model = Sequential()\n",
    "model.add(LSTM(50,return_sequences=True,input_shape=(100,1)))\n",
    "model.add(LSTM(50,return_sequences=True))\n",
    "model.add(LSTM(50))\n",
    "model.add(Dense(1))\n",
    "model.compile(loss='mean_squared_error',optimizer='adam')"
   ]
  },
  {
   "cell_type": "code",
   "execution_count": 23,
   "id": "71b063d7",
   "metadata": {},
   "outputs": [
    {
     "name": "stdout",
     "output_type": "stream",
     "text": [
      "Model: \"sequential\"\n",
      "_________________________________________________________________\n",
      " Layer (type)                Output Shape              Param #   \n",
      "=================================================================\n",
      " lstm (LSTM)                 (None, 100, 50)           10400     \n",
      "                                                                 \n",
      " lstm_1 (LSTM)               (None, 100, 50)           20200     \n",
      "                                                                 \n",
      " lstm_2 (LSTM)               (None, 50)                20200     \n",
      "                                                                 \n",
      " dense (Dense)               (None, 1)                 51        \n",
      "                                                                 \n",
      "=================================================================\n",
      "Total params: 50851 (198.64 KB)\n",
      "Trainable params: 50851 (198.64 KB)\n",
      "Non-trainable params: 0 (0.00 Byte)\n",
      "_________________________________________________________________\n"
     ]
    }
   ],
   "source": [
    "model.summary()"
   ]
  },
  {
   "cell_type": "code",
   "execution_count": 24,
   "id": "ed68a467",
   "metadata": {},
   "outputs": [
    {
     "name": "stdout",
     "output_type": "stream",
     "text": [
      "Epoch 1/100\n",
      "12/12 [==============================] - 8s 265ms/step - loss: 0.0369 - val_loss: 0.0076\n",
      "Epoch 2/100\n",
      "12/12 [==============================] - 2s 153ms/step - loss: 0.0135 - val_loss: 0.0101\n",
      "Epoch 3/100\n",
      "12/12 [==============================] - 2s 141ms/step - loss: 0.0091 - val_loss: 0.0055\n",
      "Epoch 4/100\n",
      "12/12 [==============================] - 2s 134ms/step - loss: 0.0075 - val_loss: 0.0028\n",
      "Epoch 5/100\n",
      "12/12 [==============================] - 2s 133ms/step - loss: 0.0070 - val_loss: 0.0018\n",
      "Epoch 6/100\n",
      "12/12 [==============================] - 2s 134ms/step - loss: 0.0065 - val_loss: 0.0024\n",
      "Epoch 7/100\n",
      "12/12 [==============================] - 2s 134ms/step - loss: 0.0061 - val_loss: 0.0025\n",
      "Epoch 8/100\n",
      "12/12 [==============================] - 2s 135ms/step - loss: 0.0057 - val_loss: 0.0024\n",
      "Epoch 9/100\n",
      "12/12 [==============================] - 2s 133ms/step - loss: 0.0059 - val_loss: 0.0029\n",
      "Epoch 10/100\n",
      "12/12 [==============================] - 2s 138ms/step - loss: 0.0067 - val_loss: 0.0016\n",
      "Epoch 11/100\n",
      "12/12 [==============================] - 2s 139ms/step - loss: 0.0058 - val_loss: 0.0012\n",
      "Epoch 12/100\n",
      "12/12 [==============================] - 2s 143ms/step - loss: 0.0050 - val_loss: 0.0012\n",
      "Epoch 13/100\n",
      "12/12 [==============================] - 2s 141ms/step - loss: 0.0044 - val_loss: 0.0015\n",
      "Epoch 14/100\n",
      "12/12 [==============================] - 2s 142ms/step - loss: 0.0041 - val_loss: 0.0015\n",
      "Epoch 15/100\n",
      "12/12 [==============================] - 2s 134ms/step - loss: 0.0042 - val_loss: 0.0012\n",
      "Epoch 16/100\n",
      "12/12 [==============================] - 2s 134ms/step - loss: 0.0036 - val_loss: 0.0011\n",
      "Epoch 17/100\n",
      "12/12 [==============================] - 2s 134ms/step - loss: 0.0043 - val_loss: 0.0013\n",
      "Epoch 18/100\n",
      "12/12 [==============================] - 2s 133ms/step - loss: 0.0042 - val_loss: 0.0018\n",
      "Epoch 19/100\n",
      "12/12 [==============================] - 2s 133ms/step - loss: 0.0030 - val_loss: 0.0013\n",
      "Epoch 20/100\n",
      "12/12 [==============================] - 2s 141ms/step - loss: 0.0030 - val_loss: 0.0011\n",
      "Epoch 21/100\n",
      "12/12 [==============================] - 2s 143ms/step - loss: 0.0024 - val_loss: 9.2970e-04\n",
      "Epoch 22/100\n",
      "12/12 [==============================] - 2s 142ms/step - loss: 0.0021 - val_loss: 0.0012\n",
      "Epoch 23/100\n",
      "12/12 [==============================] - 2s 143ms/step - loss: 0.0021 - val_loss: 0.0012\n",
      "Epoch 24/100\n",
      "12/12 [==============================] - 2s 140ms/step - loss: 0.0020 - val_loss: 9.4267e-04\n",
      "Epoch 25/100\n",
      "12/12 [==============================] - 2s 134ms/step - loss: 0.0017 - val_loss: 8.8032e-04\n",
      "Epoch 26/100\n",
      "12/12 [==============================] - 2s 135ms/step - loss: 0.0016 - val_loss: 7.5751e-04\n",
      "Epoch 27/100\n",
      "12/12 [==============================] - 2s 135ms/step - loss: 0.0019 - val_loss: 9.2945e-04\n",
      "Epoch 28/100\n",
      "12/12 [==============================] - 2s 135ms/step - loss: 0.0020 - val_loss: 0.0012\n",
      "Epoch 29/100\n",
      "12/12 [==============================] - 2s 142ms/step - loss: 0.0018 - val_loss: 9.0179e-04\n",
      "Epoch 30/100\n",
      "12/12 [==============================] - 2s 143ms/step - loss: 0.0018 - val_loss: 0.0010\n",
      "Epoch 31/100\n",
      "12/12 [==============================] - 2s 147ms/step - loss: 0.0018 - val_loss: 0.0011\n",
      "Epoch 32/100\n",
      "12/12 [==============================] - 2s 145ms/step - loss: 0.0017 - val_loss: 8.4988e-04\n",
      "Epoch 33/100\n",
      "12/12 [==============================] - 2s 146ms/step - loss: 0.0017 - val_loss: 0.0010\n",
      "Epoch 34/100\n",
      "12/12 [==============================] - 2s 138ms/step - loss: 0.0018 - val_loss: 0.0011\n",
      "Epoch 35/100\n",
      "12/12 [==============================] - 2s 136ms/step - loss: 0.0017 - val_loss: 8.3412e-04\n",
      "Epoch 36/100\n",
      "12/12 [==============================] - 2s 136ms/step - loss: 0.0017 - val_loss: 6.9842e-04\n",
      "Epoch 37/100\n",
      "12/12 [==============================] - 2s 135ms/step - loss: 0.0015 - val_loss: 7.8743e-04\n",
      "Epoch 38/100\n",
      "12/12 [==============================] - 2s 133ms/step - loss: 0.0014 - val_loss: 7.1245e-04\n",
      "Epoch 39/100\n",
      "12/12 [==============================] - 2s 141ms/step - loss: 0.0016 - val_loss: 7.3728e-04\n",
      "Epoch 40/100\n",
      "12/12 [==============================] - 2s 140ms/step - loss: 0.0014 - val_loss: 7.7628e-04\n",
      "Epoch 41/100\n",
      "12/12 [==============================] - 2s 147ms/step - loss: 0.0015 - val_loss: 9.7374e-04\n",
      "Epoch 42/100\n",
      "12/12 [==============================] - 2s 144ms/step - loss: 0.0015 - val_loss: 9.8225e-04\n",
      "Epoch 43/100\n",
      "12/12 [==============================] - 2s 146ms/step - loss: 0.0016 - val_loss: 8.3842e-04\n",
      "Epoch 44/100\n",
      "12/12 [==============================] - 2s 139ms/step - loss: 0.0015 - val_loss: 8.1176e-04\n",
      "Epoch 45/100\n",
      "12/12 [==============================] - 2s 139ms/step - loss: 0.0014 - val_loss: 7.9537e-04\n",
      "Epoch 46/100\n",
      "12/12 [==============================] - 2s 150ms/step - loss: 0.0013 - val_loss: 8.4523e-04\n",
      "Epoch 47/100\n",
      "12/12 [==============================] - 2s 146ms/step - loss: 0.0016 - val_loss: 7.8545e-04\n",
      "Epoch 48/100\n",
      "12/12 [==============================] - 2s 158ms/step - loss: 0.0019 - val_loss: 8.0406e-04\n",
      "Epoch 49/100\n",
      "12/12 [==============================] - 2s 147ms/step - loss: 0.0017 - val_loss: 6.6081e-04\n",
      "Epoch 50/100\n",
      "12/12 [==============================] - 2s 148ms/step - loss: 0.0015 - val_loss: 7.5298e-04\n",
      "Epoch 51/100\n",
      "12/12 [==============================] - 2s 154ms/step - loss: 0.0014 - val_loss: 6.8830e-04\n",
      "Epoch 52/100\n",
      "12/12 [==============================] - 2s 148ms/step - loss: 0.0014 - val_loss: 8.1337e-04\n",
      "Epoch 53/100\n",
      "12/12 [==============================] - 2s 138ms/step - loss: 0.0013 - val_loss: 7.4672e-04\n",
      "Epoch 54/100\n",
      "12/12 [==============================] - 2s 135ms/step - loss: 0.0012 - val_loss: 7.5088e-04\n",
      "Epoch 55/100\n",
      "12/12 [==============================] - 2s 134ms/step - loss: 0.0023 - val_loss: 7.5287e-04\n",
      "Epoch 56/100\n",
      "12/12 [==============================] - 2s 133ms/step - loss: 0.0023 - val_loss: 0.0014\n",
      "Epoch 57/100\n",
      "12/12 [==============================] - 2s 136ms/step - loss: 0.0020 - val_loss: 8.7696e-04\n",
      "Epoch 58/100\n",
      "12/12 [==============================] - 2s 139ms/step - loss: 0.0016 - val_loss: 8.0076e-04\n",
      "Epoch 59/100\n",
      "12/12 [==============================] - 2s 145ms/step - loss: 0.0016 - val_loss: 6.8893e-04\n",
      "Epoch 60/100\n",
      "12/12 [==============================] - 2s 147ms/step - loss: 0.0017 - val_loss: 7.0373e-04\n",
      "Epoch 61/100\n",
      "12/12 [==============================] - 2s 143ms/step - loss: 0.0016 - val_loss: 7.6319e-04\n",
      "Epoch 62/100\n",
      "12/12 [==============================] - 2s 140ms/step - loss: 0.0017 - val_loss: 8.4680e-04\n",
      "Epoch 63/100\n",
      "12/12 [==============================] - 2s 141ms/step - loss: 0.0015 - val_loss: 0.0010\n",
      "Epoch 64/100\n",
      "12/12 [==============================] - 2s 136ms/step - loss: 0.0016 - val_loss: 9.8842e-04\n",
      "Epoch 65/100\n",
      "12/12 [==============================] - 2s 135ms/step - loss: 0.0016 - val_loss: 8.9996e-04\n",
      "Epoch 66/100\n",
      "12/12 [==============================] - 2s 138ms/step - loss: 0.0015 - val_loss: 8.4956e-04\n",
      "Epoch 67/100\n",
      "12/12 [==============================] - 2s 138ms/step - loss: 0.0013 - val_loss: 6.4363e-04\n",
      "Epoch 68/100\n",
      "12/12 [==============================] - 2s 141ms/step - loss: 0.0013 - val_loss: 6.9774e-04\n",
      "Epoch 69/100\n",
      "12/12 [==============================] - 2s 144ms/step - loss: 0.0013 - val_loss: 7.5644e-04\n",
      "Epoch 70/100\n",
      "12/12 [==============================] - 2s 143ms/step - loss: 0.0015 - val_loss: 7.0373e-04\n",
      "Epoch 71/100\n",
      "12/12 [==============================] - 2s 143ms/step - loss: 0.0016 - val_loss: 8.0982e-04\n",
      "Epoch 72/100\n",
      "12/12 [==============================] - 2s 137ms/step - loss: 0.0014 - val_loss: 6.5841e-04\n",
      "Epoch 73/100\n",
      "12/12 [==============================] - 2s 135ms/step - loss: 0.0014 - val_loss: 0.0012\n",
      "Epoch 74/100\n",
      "12/12 [==============================] - 2s 137ms/step - loss: 0.0013 - val_loss: 8.4481e-04\n",
      "Epoch 75/100\n",
      "12/12 [==============================] - 2s 137ms/step - loss: 0.0018 - val_loss: 0.0014\n",
      "Epoch 76/100\n",
      "12/12 [==============================] - 2s 134ms/step - loss: 0.0015 - val_loss: 6.9884e-04\n",
      "Epoch 77/100\n",
      "12/12 [==============================] - 2s 143ms/step - loss: 0.0012 - val_loss: 6.8591e-04\n",
      "Epoch 78/100\n",
      "12/12 [==============================] - 2s 143ms/step - loss: 0.0014 - val_loss: 7.6789e-04\n",
      "Epoch 79/100\n",
      "12/12 [==============================] - 2s 145ms/step - loss: 0.0013 - val_loss: 7.9747e-04\n",
      "Epoch 80/100\n",
      "12/12 [==============================] - 2s 146ms/step - loss: 0.0012 - val_loss: 9.1916e-04\n",
      "Epoch 81/100\n",
      "12/12 [==============================] - 2s 144ms/step - loss: 0.0013 - val_loss: 7.3494e-04\n",
      "Epoch 82/100\n",
      "12/12 [==============================] - 2s 135ms/step - loss: 0.0012 - val_loss: 7.4140e-04\n",
      "Epoch 83/100\n",
      "12/12 [==============================] - 2s 135ms/step - loss: 0.0012 - val_loss: 6.5777e-04\n",
      "Epoch 84/100\n",
      "12/12 [==============================] - 2s 133ms/step - loss: 0.0012 - val_loss: 7.2097e-04\n",
      "Epoch 85/100\n",
      "12/12 [==============================] - 2s 134ms/step - loss: 0.0016 - val_loss: 9.9645e-04\n",
      "Epoch 86/100\n",
      "12/12 [==============================] - 2s 136ms/step - loss: 0.0014 - val_loss: 9.8669e-04\n",
      "Epoch 87/100\n",
      "12/12 [==============================] - 2s 142ms/step - loss: 0.0013 - val_loss: 7.9442e-04\n",
      "Epoch 88/100\n",
      "12/12 [==============================] - 2s 144ms/step - loss: 0.0013 - val_loss: 7.9538e-04\n",
      "Epoch 89/100\n",
      "12/12 [==============================] - 2s 155ms/step - loss: 0.0011 - val_loss: 7.9214e-04\n",
      "Epoch 90/100\n",
      "12/12 [==============================] - 2s 154ms/step - loss: 0.0011 - val_loss: 6.1186e-04\n",
      "Epoch 91/100\n",
      "12/12 [==============================] - 2s 139ms/step - loss: 0.0012 - val_loss: 6.9430e-04\n",
      "Epoch 92/100\n",
      "12/12 [==============================] - 2s 145ms/step - loss: 0.0012 - val_loss: 6.9864e-04\n",
      "Epoch 93/100\n",
      "12/12 [==============================] - 2s 136ms/step - loss: 0.0012 - val_loss: 6.0467e-04\n",
      "Epoch 94/100\n",
      "12/12 [==============================] - 2s 143ms/step - loss: 0.0014 - val_loss: 6.5632e-04\n",
      "Epoch 95/100\n",
      "12/12 [==============================] - 2s 138ms/step - loss: 0.0015 - val_loss: 6.5056e-04\n",
      "Epoch 96/100\n",
      "12/12 [==============================] - 2s 144ms/step - loss: 0.0013 - val_loss: 7.1711e-04\n",
      "Epoch 97/100\n",
      "12/12 [==============================] - 2s 145ms/step - loss: 0.0012 - val_loss: 7.7049e-04\n",
      "Epoch 98/100\n",
      "12/12 [==============================] - 2s 147ms/step - loss: 0.0010 - val_loss: 7.1133e-04\n",
      "Epoch 99/100\n",
      "12/12 [==============================] - 2s 143ms/step - loss: 0.0013 - val_loss: 7.6510e-04\n",
      "Epoch 100/100\n",
      "12/12 [==============================] - 2s 145ms/step - loss: 0.0012 - val_loss: 6.2518e-04\n"
     ]
    },
    {
     "data": {
      "text/plain": [
       "<keras.src.callbacks.History at 0x1d658297a30>"
      ]
     },
     "execution_count": 24,
     "metadata": {},
     "output_type": "execute_result"
    }
   ],
   "source": [
    "model.fit(X_train,y_train,validation_data=(X_test,ytest),epochs=100,batch_size=64,verbose=1)"
   ]
  },
  {
   "cell_type": "code",
   "execution_count": 44,
   "id": "c0975696",
   "metadata": {},
   "outputs": [
    {
     "name": "stderr",
     "output_type": "stream",
     "text": [
      "C:\\Users\\Lenovo\\anaconda3\\lib\\site-packages\\keras\\src\\engine\\training.py:3000: UserWarning: You are saving your model as an HDF5 file via `model.save()`. This file format is considered legacy. We recommend using instead the native Keras format, e.g. `model.save('my_model.keras')`.\n",
      "  saving_api.save_model(\n"
     ]
    }
   ],
   "source": [
    "model.save('keras_model.h5')"
   ]
  },
  {
   "cell_type": "code",
   "execution_count": 25,
   "id": "71a77b6b",
   "metadata": {},
   "outputs": [],
   "source": [
    "import tensorflow as tf"
   ]
  },
  {
   "cell_type": "code",
   "execution_count": 26,
   "id": "9172eb67",
   "metadata": {},
   "outputs": [
    {
     "data": {
      "text/plain": [
       "'2.13.0'"
      ]
     },
     "execution_count": 26,
     "metadata": {},
     "output_type": "execute_result"
    }
   ],
   "source": [
    "tf.__version__"
   ]
  },
  {
   "cell_type": "code",
   "execution_count": 27,
   "id": "11c9add5",
   "metadata": {},
   "outputs": [
    {
     "name": "stdout",
     "output_type": "stream",
     "text": [
      "23/23 [==============================] - 2s 28ms/step\n",
      "11/11 [==============================] - 0s 30ms/step\n"
     ]
    }
   ],
   "source": [
    "train_predict  = model.predict(X_train)\n",
    "test_predict = model.predict(X_test)"
   ]
  },
  {
   "cell_type": "code",
   "execution_count": 28,
   "id": "fef29301",
   "metadata": {},
   "outputs": [],
   "source": [
    "train_predict = scaler.inverse_transform(train_predict)\n",
    "test_predict = scaler.inverse_transform(test_predict)"
   ]
  },
  {
   "cell_type": "code",
   "execution_count": 29,
   "id": "f278630a",
   "metadata": {},
   "outputs": [
    {
     "data": {
      "text/plain": [
       "740.6404780878618"
      ]
     },
     "execution_count": 29,
     "metadata": {},
     "output_type": "execute_result"
    }
   ],
   "source": [
    "import math\n",
    "from sklearn.metrics import mean_squared_error\n",
    "math.sqrt(mean_squared_error(y_train,train_predict))"
   ]
  },
  {
   "cell_type": "code",
   "execution_count": 30,
   "id": "50882b28",
   "metadata": {},
   "outputs": [
    {
     "data": {
      "text/plain": [
       "301.11651652576205"
      ]
     },
     "execution_count": 30,
     "metadata": {},
     "output_type": "execute_result"
    }
   ],
   "source": [
    "math.sqrt(mean_squared_error(ytest,test_predict))"
   ]
  },
  {
   "cell_type": "code",
   "execution_count": 31,
   "id": "26566861",
   "metadata": {},
   "outputs": [
    {
     "data": {
      "image/png": "[encoded data removed]",
      "text/plain": [
       "<Figure size 640x480 with 1 Axes>"
      ]
     },
     "metadata": {},
     "output_type": "display_data"
    }
   ],
   "source": [
    "look_back = 100\n",
    "trainPredictPlot = numpy.empty_like(df1)\n",
    "trainPredictPlot[:, :] = np.nan\n",
    "trainPredictPlot[look_back:len(train_predict)+look_back,  :]= train_predict\n",
    "testPredictPlot = numpy.empty_like(df1)\n",
    "testPredictPlot[:, :] = numpy.nan\n",
    "testPredictPlot[len(train_predict)+(look_back*2)+1:len(df1)-1, :] = test_predict\n",
    "plt.plot(scaler.inverse_transform(df1))\n",
    "plt.plot(trainPredictPlot)\n",
    "plt.plot(testPredictPlot)\n",
    "plt.show()"
   ]
  },
  {
   "cell_type": "code",
   "execution_count": null,
   "id": "06db6c02",
   "metadata": {},
   "outputs": [],
   "source": []
  },
  {
   "cell_type": "code",
   "execution_count": 32,
   "id": "675f13a9",
   "metadata": {},
   "outputs": [
    {
     "data": {
      "text/plain": [
       "441"
      ]
     },
     "execution_count": 32,
     "metadata": {},
     "output_type": "execute_result"
    }
   ],
   "source": [
    "len(test_data)"
   ]
  },
  {
   "cell_type": "code",
   "execution_count": 33,
   "id": "5ccbf1e4",
   "metadata": {},
   "outputs": [
    {
     "data": {
      "text/plain": [
       "(1, 100)"
      ]
     },
     "execution_count": 33,
     "metadata": {},
     "output_type": "execute_result"
    }
   ],
   "source": [
    "x_input = test_data[341:].reshape(1,-1)\n",
    "x_input.shape"
   ]
  },
  {
   "cell_type": "code",
   "execution_count": 34,
   "id": "bd373d60",
   "metadata": {},
   "outputs": [],
   "source": [
    "temp_input = list(x_input)\n",
    "temp_input = temp_input[0].tolist()"
   ]
  },
  {
   "cell_type": "code",
   "execution_count": 35,
   "id": "de865fe9",
   "metadata": {},
   "outputs": [
    {
     "data": {
      "text/plain": [
       "[0.07265388496468213,\n",
       " 0.07130218477929269,\n",
       " 0.07554502147232064,\n",
       " 0.073770914978997,\n",
       " 0.07333442846079836,\n",
       " 0.06927932790463004,\n",
       " 0.07431534977589,\n",
       " 0.0747799967146176,\n",
       " 0.07179499213854927,\n",
       " 0.06852838335719147,\n",
       " 0.07097364653978833,\n",
       " 0.0684110482716542,\n",
       " 0.06727993804707483,\n",
       " 0.06645859244831388,\n",
       " 0.06293384647877408,\n",
       " 0.06441226855654378,\n",
       " 0.06314974303616268,\n",
       " 0.061793349447351736,\n",
       " 0.058601835120737814,\n",
       " 0.055147490202520355,\n",
       " 0.05215309881960904,\n",
       " 0.050402459343392866,\n",
       " 0.057813343345927304,\n",
       " 0.0587097833994321,\n",
       " 0.06043226245511933,\n",
       " 0.0572313613216624,\n",
       " 0.061244221247037295,\n",
       " 0.06135216952573158,\n",
       " 0.06996925820758923,\n",
       " 0.06983784291178748,\n",
       " 0.07039166451552342,\n",
       " 0.06425738624363457,\n",
       " 0.06964541337150636,\n",
       " 0.0675005280078849,\n",
       " 0.0672987116607608,\n",
       " 0.06589538403773497,\n",
       " 0.07766643981883462,\n",
       " 0.07480346373172506,\n",
       " 0.07659634383873468,\n",
       " 0.07882101706052144,\n",
       " 0.07804660549597539,\n",
       " 0.073770914978997,\n",
       " 0.07434351019641894,\n",
       " 0.0725083894586159,\n",
       " 0.06927463450120855,\n",
       " 0.06419637199915519,\n",
       " 0.06518668012108982,\n",
       " 0.06383967333912187,\n",
       " 0.06214066130054209,\n",
       " 0.06490038251237885,\n",
       " 0.06670264942623143,\n",
       " 0.0673503390983972,\n",
       " 0.06497078356370121,\n",
       " 0.0718372327693427,\n",
       " 0.07131626498955718,\n",
       " 0.07154154835378873,\n",
       " 0.07113791565954053,\n",
       " 0.0729918100110295,\n",
       " 0.07269612559547556,\n",
       " 0.07076244338582123,\n",
       " 0.06712505573416563,\n",
       " 0.06843920869218313,\n",
       " 0.06887569521038181,\n",
       " 0.06316382324642715,\n",
       " 0.05257081172412176,\n",
       " 0.04875976814587098,\n",
       " 0.04880200877666441,\n",
       " 0.05088587989580645,\n",
       " 0.04896158449299509,\n",
       " 0.045835777814282025,\n",
       " 0.046558561941191665,\n",
       " 0.04189331894022952,\n",
       " 0.04352662333090841,\n",
       " 0.04578884378006712,\n",
       " 0.051819867176683174,\n",
       " 0.05250041067279938,\n",
       " 0.052176565836716496,\n",
       " 0.053542346232370405,\n",
       " 0.05350949240841997,\n",
       " 0.04781639405815126,\n",
       " 0.05000821345598762,\n",
       " 0.05426043695585854,\n",
       " 0.060690399643301335,\n",
       " 0.063238917701171,\n",
       " 0.05889751953629174,\n",
       " 0.05923075117921761,\n",
       " 0.059840893624011446,\n",
       " 0.062469199540046455,\n",
       " 0.059188510548424195,\n",
       " 0.059770492572689085,\n",
       " 0.06006617698824303,\n",
       " 0.06505995822870955,\n",
       " 0.06384906014596484,\n",
       " 0.06194353835683947,\n",
       " 0.061356862929153086,\n",
       " 0.05983150681716848,\n",
       " 0.061305235491516674,\n",
       " 0.0616103067139136,\n",
       " 0.06314504963274117,\n",
       " 0.06370825804332012]"
      ]
     },
     "execution_count": 35,
     "metadata": {},
     "output_type": "execute_result"
    }
   ],
   "source": [
    "temp_input"
   ]
  },
  {
   "cell_type": "code",
   "execution_count": 36,
   "id": "7df2e437",
   "metadata": {},
   "outputs": [
    {
     "name": "stdout",
     "output_type": "stream",
     "text": [
      "[0.06254017]\n",
      "1 day input [0.07130218 0.07554502 0.07377091 0.07333443 0.06927933 0.07431535\n",
      " 0.07478    0.07179499 0.06852838 0.07097365 0.06841105 0.06727994\n",
      " 0.06645859 0.06293385 0.06441227 0.06314974 0.06179335 0.05860184\n",
      " 0.05514749 0.0521531  0.05040246 0.05781334 0.05870978 0.06043226\n",
      " 0.05723136 0.06124422 0.06135217 0.06996926 0.06983784 0.07039166\n",
      " 0.06425739 0.06964541 0.06750053 0.06729871 0.06589538 0.07766644\n",
      " 0.07480346 0.07659634 0.07882102 0.07804661 0.07377091 0.07434351\n",
      " 0.07250839 0.06927463 0.06419637 0.06518668 0.06383967 0.06214066\n",
      " 0.06490038 0.06670265 0.06735034 0.06497078 0.07183723 0.07131626\n",
      " 0.07154155 0.07113792 0.07299181 0.07269613 0.07076244 0.06712506\n",
      " 0.06843921 0.0688757  0.06316382 0.05257081 0.04875977 0.04880201\n",
      " 0.05088588 0.04896158 0.04583578 0.04655856 0.04189332 0.04352662\n",
      " 0.04578884 0.05181987 0.05250041 0.05217657 0.05354235 0.05350949\n",
      " 0.04781639 0.05000821 0.05426044 0.0606904  0.06323892 0.05889752\n",
      " 0.05923075 0.05984089 0.0624692  0.05918851 0.05977049 0.06006618\n",
      " 0.06505996 0.06384906 0.06194354 0.06135686 0.05983151 0.06130524\n",
      " 0.06161031 0.06314505 0.06370826 0.06254017]\n",
      "1 day output [[0.06272699]]\n",
      "2 day input [0.07554502 0.07377091 0.07333443 0.06927933 0.07431535 0.07478\n",
      " 0.07179499 0.06852838 0.07097365 0.06841105 0.06727994 0.06645859\n",
      " 0.06293385 0.06441227 0.06314974 0.06179335 0.05860184 0.05514749\n",
      " 0.0521531  0.05040246 0.05781334 0.05870978 0.06043226 0.05723136\n",
      " 0.06124422 0.06135217 0.06996926 0.06983784 0.07039166 0.06425739\n",
      " 0.06964541 0.06750053 0.06729871 0.06589538 0.07766644 0.07480346\n",
      " 0.07659634 0.07882102 0.07804661 0.07377091 0.07434351 0.07250839\n",
      " 0.06927463 0.06419637 0.06518668 0.06383967 0.06214066 0.06490038\n",
      " 0.06670265 0.06735034 0.06497078 0.07183723 0.07131626 0.07154155\n",
      " 0.07113792 0.07299181 0.07269613 0.07076244 0.06712506 0.06843921\n",
      " 0.0688757  0.06316382 0.05257081 0.04875977 0.04880201 0.05088588\n",
      " 0.04896158 0.04583578 0.04655856 0.04189332 0.04352662 0.04578884\n",
      " 0.05181987 0.05250041 0.05217657 0.05354235 0.05350949 0.04781639\n",
      " 0.05000821 0.05426044 0.0606904  0.06323892 0.05889752 0.05923075\n",
      " 0.05984089 0.0624692  0.05918851 0.05977049 0.06006618 0.06505996\n",
      " 0.06384906 0.06194354 0.06135686 0.05983151 0.06130524 0.06161031\n",
      " 0.06314505 0.06370826 0.06254017 0.06272699]\n",
      "2 day output [[0.06289143]]\n",
      "3 day input [0.07377091 0.07333443 0.06927933 0.07431535 0.07478    0.07179499\n",
      " 0.06852838 0.07097365 0.06841105 0.06727994 0.06645859 0.06293385\n",
      " 0.06441227 0.06314974 0.06179335 0.05860184 0.05514749 0.0521531\n",
      " 0.05040246 0.05781334 0.05870978 0.06043226 0.05723136 0.06124422\n",
      " 0.06135217 0.06996926 0.06983784 0.07039166 0.06425739 0.06964541\n",
      " 0.06750053 0.06729871 0.06589538 0.07766644 0.07480346 0.07659634\n",
      " 0.07882102 0.07804661 0.07377091 0.07434351 0.07250839 0.06927463\n",
      " 0.06419637 0.06518668 0.06383967 0.06214066 0.06490038 0.06670265\n",
      " 0.06735034 0.06497078 0.07183723 0.07131626 0.07154155 0.07113792\n",
      " 0.07299181 0.07269613 0.07076244 0.06712506 0.06843921 0.0688757\n",
      " 0.06316382 0.05257081 0.04875977 0.04880201 0.05088588 0.04896158\n",
      " 0.04583578 0.04655856 0.04189332 0.04352662 0.04578884 0.05181987\n",
      " 0.05250041 0.05217657 0.05354235 0.05350949 0.04781639 0.05000821\n",
      " 0.05426044 0.0606904  0.06323892 0.05889752 0.05923075 0.05984089\n",
      " 0.0624692  0.05918851 0.05977049 0.06006618 0.06505996 0.06384906\n",
      " 0.06194354 0.06135686 0.05983151 0.06130524 0.06161031 0.06314505\n",
      " 0.06370826 0.06254017 0.06272699 0.06289143]\n",
      "3 day output [[0.06302339]]\n",
      "4 day input [0.07333443 0.06927933 0.07431535 0.07478    0.07179499 0.06852838\n",
      " 0.07097365 0.06841105 0.06727994 0.06645859 0.06293385 0.06441227\n",
      " 0.06314974 0.06179335 0.05860184 0.05514749 0.0521531  0.05040246\n",
      " 0.05781334 0.05870978 0.06043226 0.05723136 0.06124422 0.06135217\n",
      " 0.06996926 0.06983784 0.07039166 0.06425739 0.06964541 0.06750053\n",
      " 0.06729871 0.06589538 0.07766644 0.07480346 0.07659634 0.07882102\n",
      " 0.07804661 0.07377091 0.07434351 0.07250839 0.06927463 0.06419637\n",
      " 0.06518668 0.06383967 0.06214066 0.06490038 0.06670265 0.06735034\n",
      " 0.06497078 0.07183723 0.07131626 0.07154155 0.07113792 0.07299181\n",
      " 0.07269613 0.07076244 0.06712506 0.06843921 0.0688757  0.06316382\n",
      " 0.05257081 0.04875977 0.04880201 0.05088588 0.04896158 0.04583578\n",
      " 0.04655856 0.04189332 0.04352662 0.04578884 0.05181987 0.05250041\n",
      " 0.05217657 0.05354235 0.05350949 0.04781639 0.05000821 0.05426044\n",
      " 0.0606904  0.06323892 0.05889752 0.05923075 0.05984089 0.0624692\n",
      " 0.05918851 0.05977049 0.06006618 0.06505996 0.06384906 0.06194354\n",
      " 0.06135686 0.05983151 0.06130524 0.06161031 0.06314505 0.06370826\n",
      " 0.06254017 0.06272699 0.06289143 0.06302339]\n",
      "4 day output [[0.06312825]]\n",
      "5 day input [0.06927933 0.07431535 0.07478    0.07179499 0.06852838 0.07097365\n",
      " 0.06841105 0.06727994 0.06645859 0.06293385 0.06441227 0.06314974\n",
      " 0.06179335 0.05860184 0.05514749 0.0521531  0.05040246 0.05781334\n",
      " 0.05870978 0.06043226 0.05723136 0.06124422 0.06135217 0.06996926\n",
      " 0.06983784 0.07039166 0.06425739 0.06964541 0.06750053 0.06729871\n",
      " 0.06589538 0.07766644 0.07480346 0.07659634 0.07882102 0.07804661\n",
      " 0.07377091 0.07434351 0.07250839 0.06927463 0.06419637 0.06518668\n",
      " 0.06383967 0.06214066 0.06490038 0.06670265 0.06735034 0.06497078\n",
      " 0.07183723 0.07131626 0.07154155 0.07113792 0.07299181 0.07269613\n",
      " 0.07076244 0.06712506 0.06843921 0.0688757  0.06316382 0.05257081\n",
      " 0.04875977 0.04880201 0.05088588 0.04896158 0.04583578 0.04655856\n",
      " 0.04189332 0.04352662 0.04578884 0.05181987 0.05250041 0.05217657\n",
      " 0.05354235 0.05350949 0.04781639 0.05000821 0.05426044 0.0606904\n",
      " 0.06323892 0.05889752 0.05923075 0.05984089 0.0624692  0.05918851\n",
      " 0.05977049 0.06006618 0.06505996 0.06384906 0.06194354 0.06135686\n",
      " 0.05983151 0.06130524 0.06161031 0.06314505 0.06370826 0.06254017\n",
      " 0.06272699 0.06289143 0.06302339 0.06312825]\n",
      "5 day output [[0.06321447]]\n",
      "6 day input [0.07431535 0.07478    0.07179499 0.06852838 0.07097365 0.06841105\n",
      " 0.06727994 0.06645859 0.06293385 0.06441227 0.06314974 0.06179335\n",
      " 0.05860184 0.05514749 0.0521531  0.05040246 0.05781334 0.05870978\n",
      " 0.06043226 0.05723136 0.06124422 0.06135217 0.06996926 0.06983784\n",
      " 0.07039166 0.06425739 0.06964541 0.06750053 0.06729871 0.06589538\n",
      " 0.07766644 0.07480346 0.07659634 0.07882102 0.07804661 0.07377091\n",
      " 0.07434351 0.07250839 0.06927463 0.06419637 0.06518668 0.06383967\n",
      " 0.06214066 0.06490038 0.06670265 0.06735034 0.06497078 0.07183723\n",
      " 0.07131626 0.07154155 0.07113792 0.07299181 0.07269613 0.07076244\n",
      " 0.06712506 0.06843921 0.0688757  0.06316382 0.05257081 0.04875977\n",
      " 0.04880201 0.05088588 0.04896158 0.04583578 0.04655856 0.04189332\n",
      " 0.04352662 0.04578884 0.05181987 0.05250041 0.05217657 0.05354235\n",
      " 0.05350949 0.04781639 0.05000821 0.05426044 0.0606904  0.06323892\n",
      " 0.05889752 0.05923075 0.05984089 0.0624692  0.05918851 0.05977049\n",
      " 0.06006618 0.06505996 0.06384906 0.06194354 0.06135686 0.05983151\n",
      " 0.06130524 0.06161031 0.06314505 0.06370826 0.06254017 0.06272699\n",
      " 0.06289143 0.06302339 0.06312825 0.06321447]\n",
      "6 day output [[0.06328905]]\n",
      "7 day input [0.07478    0.07179499 0.06852838 0.07097365 0.06841105 0.06727994\n",
      " 0.06645859 0.06293385 0.06441227 0.06314974 0.06179335 0.05860184\n",
      " 0.05514749 0.0521531  0.05040246 0.05781334 0.05870978 0.06043226\n",
      " 0.05723136 0.06124422 0.06135217 0.06996926 0.06983784 0.07039166\n",
      " 0.06425739 0.06964541 0.06750053 0.06729871 0.06589538 0.07766644\n",
      " 0.07480346 0.07659634 0.07882102 0.07804661 0.07377091 0.07434351\n",
      " 0.07250839 0.06927463 0.06419637 0.06518668 0.06383967 0.06214066\n",
      " 0.06490038 0.06670265 0.06735034 0.06497078 0.07183723 0.07131626\n",
      " 0.07154155 0.07113792 0.07299181 0.07269613 0.07076244 0.06712506\n",
      " 0.06843921 0.0688757  0.06316382 0.05257081 0.04875977 0.04880201\n",
      " 0.05088588 0.04896158 0.04583578 0.04655856 0.04189332 0.04352662\n",
      " 0.04578884 0.05181987 0.05250041 0.05217657 0.05354235 0.05350949\n",
      " 0.04781639 0.05000821 0.05426044 0.0606904  0.06323892 0.05889752\n",
      " 0.05923075 0.05984089 0.0624692  0.05918851 0.05977049 0.06006618\n",
      " 0.06505996 0.06384906 0.06194354 0.06135686 0.05983151 0.06130524\n",
      " 0.06161031 0.06314505 0.06370826 0.06254017 0.06272699 0.06289143\n",
      " 0.06302339 0.06312825 0.06321447 0.06328905]\n",
      "7 day output [[0.06335671]]\n",
      "8 day input [0.07179499 0.06852838 0.07097365 0.06841105 0.06727994 0.06645859\n",
      " 0.06293385 0.06441227 0.06314974 0.06179335 0.05860184 0.05514749\n",
      " 0.0521531  0.05040246 0.05781334 0.05870978 0.06043226 0.05723136\n",
      " 0.06124422 0.06135217 0.06996926 0.06983784 0.07039166 0.06425739\n",
      " 0.06964541 0.06750053 0.06729871 0.06589538 0.07766644 0.07480346\n",
      " 0.07659634 0.07882102 0.07804661 0.07377091 0.07434351 0.07250839\n",
      " 0.06927463 0.06419637 0.06518668 0.06383967 0.06214066 0.06490038\n",
      " 0.06670265 0.06735034 0.06497078 0.07183723 0.07131626 0.07154155\n",
      " 0.07113792 0.07299181 0.07269613 0.07076244 0.06712506 0.06843921\n",
      " 0.0688757  0.06316382 0.05257081 0.04875977 0.04880201 0.05088588\n",
      " 0.04896158 0.04583578 0.04655856 0.04189332 0.04352662 0.04578884\n",
      " 0.05181987 0.05250041 0.05217657 0.05354235 0.05350949 0.04781639\n",
      " 0.05000821 0.05426044 0.0606904  0.06323892 0.05889752 0.05923075\n",
      " 0.05984089 0.0624692  0.05918851 0.05977049 0.06006618 0.06505996\n",
      " 0.06384906 0.06194354 0.06135686 0.05983151 0.06130524 0.06161031\n",
      " 0.06314505 0.06370826 0.06254017 0.06272699 0.06289143 0.06302339\n",
      " 0.06312825 0.06321447 0.06328905 0.06335671]\n"
     ]
    },
    {
     "name": "stdout",
     "output_type": "stream",
     "text": [
      "8 day output [[0.06342026]]\n",
      "9 day input [0.06852838 0.07097365 0.06841105 0.06727994 0.06645859 0.06293385\n",
      " 0.06441227 0.06314974 0.06179335 0.05860184 0.05514749 0.0521531\n",
      " 0.05040246 0.05781334 0.05870978 0.06043226 0.05723136 0.06124422\n",
      " 0.06135217 0.06996926 0.06983784 0.07039166 0.06425739 0.06964541\n",
      " 0.06750053 0.06729871 0.06589538 0.07766644 0.07480346 0.07659634\n",
      " 0.07882102 0.07804661 0.07377091 0.07434351 0.07250839 0.06927463\n",
      " 0.06419637 0.06518668 0.06383967 0.06214066 0.06490038 0.06670265\n",
      " 0.06735034 0.06497078 0.07183723 0.07131626 0.07154155 0.07113792\n",
      " 0.07299181 0.07269613 0.07076244 0.06712506 0.06843921 0.0688757\n",
      " 0.06316382 0.05257081 0.04875977 0.04880201 0.05088588 0.04896158\n",
      " 0.04583578 0.04655856 0.04189332 0.04352662 0.04578884 0.05181987\n",
      " 0.05250041 0.05217657 0.05354235 0.05350949 0.04781639 0.05000821\n",
      " 0.05426044 0.0606904  0.06323892 0.05889752 0.05923075 0.05984089\n",
      " 0.0624692  0.05918851 0.05977049 0.06006618 0.06505996 0.06384906\n",
      " 0.06194354 0.06135686 0.05983151 0.06130524 0.06161031 0.06314505\n",
      " 0.06370826 0.06254017 0.06272699 0.06289143 0.06302339 0.06312825\n",
      " 0.06321447 0.06328905 0.06335671 0.06342026]\n",
      "9 day output [[0.06348139]]\n",
      "10 day input [0.07097365 0.06841105 0.06727994 0.06645859 0.06293385 0.06441227\n",
      " 0.06314974 0.06179335 0.05860184 0.05514749 0.0521531  0.05040246\n",
      " 0.05781334 0.05870978 0.06043226 0.05723136 0.06124422 0.06135217\n",
      " 0.06996926 0.06983784 0.07039166 0.06425739 0.06964541 0.06750053\n",
      " 0.06729871 0.06589538 0.07766644 0.07480346 0.07659634 0.07882102\n",
      " 0.07804661 0.07377091 0.07434351 0.07250839 0.06927463 0.06419637\n",
      " 0.06518668 0.06383967 0.06214066 0.06490038 0.06670265 0.06735034\n",
      " 0.06497078 0.07183723 0.07131626 0.07154155 0.07113792 0.07299181\n",
      " 0.07269613 0.07076244 0.06712506 0.06843921 0.0688757  0.06316382\n",
      " 0.05257081 0.04875977 0.04880201 0.05088588 0.04896158 0.04583578\n",
      " 0.04655856 0.04189332 0.04352662 0.04578884 0.05181987 0.05250041\n",
      " 0.05217657 0.05354235 0.05350949 0.04781639 0.05000821 0.05426044\n",
      " 0.0606904  0.06323892 0.05889752 0.05923075 0.05984089 0.0624692\n",
      " 0.05918851 0.05977049 0.06006618 0.06505996 0.06384906 0.06194354\n",
      " 0.06135686 0.05983151 0.06130524 0.06161031 0.06314505 0.06370826\n",
      " 0.06254017 0.06272699 0.06289143 0.06302339 0.06312825 0.06321447\n",
      " 0.06328905 0.06335671 0.06342026 0.06348139]\n",
      "10 day output [[0.06354102]]\n",
      "11 day input [0.06841105 0.06727994 0.06645859 0.06293385 0.06441227 0.06314974\n",
      " 0.06179335 0.05860184 0.05514749 0.0521531  0.05040246 0.05781334\n",
      " 0.05870978 0.06043226 0.05723136 0.06124422 0.06135217 0.06996926\n",
      " 0.06983784 0.07039166 0.06425739 0.06964541 0.06750053 0.06729871\n",
      " 0.06589538 0.07766644 0.07480346 0.07659634 0.07882102 0.07804661\n",
      " 0.07377091 0.07434351 0.07250839 0.06927463 0.06419637 0.06518668\n",
      " 0.06383967 0.06214066 0.06490038 0.06670265 0.06735034 0.06497078\n",
      " 0.07183723 0.07131626 0.07154155 0.07113792 0.07299181 0.07269613\n",
      " 0.07076244 0.06712506 0.06843921 0.0688757  0.06316382 0.05257081\n",
      " 0.04875977 0.04880201 0.05088588 0.04896158 0.04583578 0.04655856\n",
      " 0.04189332 0.04352662 0.04578884 0.05181987 0.05250041 0.05217657\n",
      " 0.05354235 0.05350949 0.04781639 0.05000821 0.05426044 0.0606904\n",
      " 0.06323892 0.05889752 0.05923075 0.05984089 0.0624692  0.05918851\n",
      " 0.05977049 0.06006618 0.06505996 0.06384906 0.06194354 0.06135686\n",
      " 0.05983151 0.06130524 0.06161031 0.06314505 0.06370826 0.06254017\n",
      " 0.06272699 0.06289143 0.06302339 0.06312825 0.06321447 0.06328905\n",
      " 0.06335671 0.06342026 0.06348139 0.06354102]\n",
      "11 day output [[0.06359974]]\n",
      "12 day input [0.06727994 0.06645859 0.06293385 0.06441227 0.06314974 0.06179335\n",
      " 0.05860184 0.05514749 0.0521531  0.05040246 0.05781334 0.05870978\n",
      " 0.06043226 0.05723136 0.06124422 0.06135217 0.06996926 0.06983784\n",
      " 0.07039166 0.06425739 0.06964541 0.06750053 0.06729871 0.06589538\n",
      " 0.07766644 0.07480346 0.07659634 0.07882102 0.07804661 0.07377091\n",
      " 0.07434351 0.07250839 0.06927463 0.06419637 0.06518668 0.06383967\n",
      " 0.06214066 0.06490038 0.06670265 0.06735034 0.06497078 0.07183723\n",
      " 0.07131626 0.07154155 0.07113792 0.07299181 0.07269613 0.07076244\n",
      " 0.06712506 0.06843921 0.0688757  0.06316382 0.05257081 0.04875977\n",
      " 0.04880201 0.05088588 0.04896158 0.04583578 0.04655856 0.04189332\n",
      " 0.04352662 0.04578884 0.05181987 0.05250041 0.05217657 0.05354235\n",
      " 0.05350949 0.04781639 0.05000821 0.05426044 0.0606904  0.06323892\n",
      " 0.05889752 0.05923075 0.05984089 0.0624692  0.05918851 0.05977049\n",
      " 0.06006618 0.06505996 0.06384906 0.06194354 0.06135686 0.05983151\n",
      " 0.06130524 0.06161031 0.06314505 0.06370826 0.06254017 0.06272699\n",
      " 0.06289143 0.06302339 0.06312825 0.06321447 0.06328905 0.06335671\n",
      " 0.06342026 0.06348139 0.06354102 0.06359974]\n",
      "12 day output [[0.06365791]]\n",
      "13 day input [0.06645859 0.06293385 0.06441227 0.06314974 0.06179335 0.05860184\n",
      " 0.05514749 0.0521531  0.05040246 0.05781334 0.05870978 0.06043226\n",
      " 0.05723136 0.06124422 0.06135217 0.06996926 0.06983784 0.07039166\n",
      " 0.06425739 0.06964541 0.06750053 0.06729871 0.06589538 0.07766644\n",
      " 0.07480346 0.07659634 0.07882102 0.07804661 0.07377091 0.07434351\n",
      " 0.07250839 0.06927463 0.06419637 0.06518668 0.06383967 0.06214066\n",
      " 0.06490038 0.06670265 0.06735034 0.06497078 0.07183723 0.07131626\n",
      " 0.07154155 0.07113792 0.07299181 0.07269613 0.07076244 0.06712506\n",
      " 0.06843921 0.0688757  0.06316382 0.05257081 0.04875977 0.04880201\n",
      " 0.05088588 0.04896158 0.04583578 0.04655856 0.04189332 0.04352662\n",
      " 0.04578884 0.05181987 0.05250041 0.05217657 0.05354235 0.05350949\n",
      " 0.04781639 0.05000821 0.05426044 0.0606904  0.06323892 0.05889752\n",
      " 0.05923075 0.05984089 0.0624692  0.05918851 0.05977049 0.06006618\n",
      " 0.06505996 0.06384906 0.06194354 0.06135686 0.05983151 0.06130524\n",
      " 0.06161031 0.06314505 0.06370826 0.06254017 0.06272699 0.06289143\n",
      " 0.06302339 0.06312825 0.06321447 0.06328905 0.06335671 0.06342026\n",
      " 0.06348139 0.06354102 0.06359974 0.06365791]\n",
      "13 day output [[0.06371578]]\n",
      "14 day input [0.06293385 0.06441227 0.06314974 0.06179335 0.05860184 0.05514749\n",
      " 0.0521531  0.05040246 0.05781334 0.05870978 0.06043226 0.05723136\n",
      " 0.06124422 0.06135217 0.06996926 0.06983784 0.07039166 0.06425739\n",
      " 0.06964541 0.06750053 0.06729871 0.06589538 0.07766644 0.07480346\n",
      " 0.07659634 0.07882102 0.07804661 0.07377091 0.07434351 0.07250839\n",
      " 0.06927463 0.06419637 0.06518668 0.06383967 0.06214066 0.06490038\n",
      " 0.06670265 0.06735034 0.06497078 0.07183723 0.07131626 0.07154155\n",
      " 0.07113792 0.07299181 0.07269613 0.07076244 0.06712506 0.06843921\n",
      " 0.0688757  0.06316382 0.05257081 0.04875977 0.04880201 0.05088588\n",
      " 0.04896158 0.04583578 0.04655856 0.04189332 0.04352662 0.04578884\n",
      " 0.05181987 0.05250041 0.05217657 0.05354235 0.05350949 0.04781639\n",
      " 0.05000821 0.05426044 0.0606904  0.06323892 0.05889752 0.05923075\n",
      " 0.05984089 0.0624692  0.05918851 0.05977049 0.06006618 0.06505996\n",
      " 0.06384906 0.06194354 0.06135686 0.05983151 0.06130524 0.06161031\n",
      " 0.06314505 0.06370826 0.06254017 0.06272699 0.06289143 0.06302339\n",
      " 0.06312825 0.06321447 0.06328905 0.06335671 0.06342026 0.06348139\n",
      " 0.06354102 0.06359974 0.06365791 0.06371578]\n",
      "14 day output [[0.06377348]]\n",
      "15 day input [0.06441227 0.06314974 0.06179335 0.05860184 0.05514749 0.0521531\n",
      " 0.05040246 0.05781334 0.05870978 0.06043226 0.05723136 0.06124422\n",
      " 0.06135217 0.06996926 0.06983784 0.07039166 0.06425739 0.06964541\n",
      " 0.06750053 0.06729871 0.06589538 0.07766644 0.07480346 0.07659634\n",
      " 0.07882102 0.07804661 0.07377091 0.07434351 0.07250839 0.06927463\n",
      " 0.06419637 0.06518668 0.06383967 0.06214066 0.06490038 0.06670265\n",
      " 0.06735034 0.06497078 0.07183723 0.07131626 0.07154155 0.07113792\n",
      " 0.07299181 0.07269613 0.07076244 0.06712506 0.06843921 0.0688757\n",
      " 0.06316382 0.05257081 0.04875977 0.04880201 0.05088588 0.04896158\n",
      " 0.04583578 0.04655856 0.04189332 0.04352662 0.04578884 0.05181987\n",
      " 0.05250041 0.05217657 0.05354235 0.05350949 0.04781639 0.05000821\n",
      " 0.05426044 0.0606904  0.06323892 0.05889752 0.05923075 0.05984089\n",
      " 0.0624692  0.05918851 0.05977049 0.06006618 0.06505996 0.06384906\n",
      " 0.06194354 0.06135686 0.05983151 0.06130524 0.06161031 0.06314505\n",
      " 0.06370826 0.06254017 0.06272699 0.06289143 0.06302339 0.06312825\n",
      " 0.06321447 0.06328905 0.06335671 0.06342026 0.06348139 0.06354102\n",
      " 0.06359974 0.06365791 0.06371578 0.06377348]\n",
      "15 day output [[0.06383111]]\n",
      "16 day input [0.06314974 0.06179335 0.05860184 0.05514749 0.0521531  0.05040246\n",
      " 0.05781334 0.05870978 0.06043226 0.05723136 0.06124422 0.06135217\n",
      " 0.06996926 0.06983784 0.07039166 0.06425739 0.06964541 0.06750053\n",
      " 0.06729871 0.06589538 0.07766644 0.07480346 0.07659634 0.07882102\n",
      " 0.07804661 0.07377091 0.07434351 0.07250839 0.06927463 0.06419637\n",
      " 0.06518668 0.06383967 0.06214066 0.06490038 0.06670265 0.06735034\n",
      " 0.06497078 0.07183723 0.07131626 0.07154155 0.07113792 0.07299181\n",
      " 0.07269613 0.07076244 0.06712506 0.06843921 0.0688757  0.06316382\n",
      " 0.05257081 0.04875977 0.04880201 0.05088588 0.04896158 0.04583578\n",
      " 0.04655856 0.04189332 0.04352662 0.04578884 0.05181987 0.05250041\n",
      " 0.05217657 0.05354235 0.05350949 0.04781639 0.05000821 0.05426044\n",
      " 0.0606904  0.06323892 0.05889752 0.05923075 0.05984089 0.0624692\n",
      " 0.05918851 0.05977049 0.06006618 0.06505996 0.06384906 0.06194354\n",
      " 0.06135686 0.05983151 0.06130524 0.06161031 0.06314505 0.06370826\n",
      " 0.06254017 0.06272699 0.06289143 0.06302339 0.06312825 0.06321447\n",
      " 0.06328905 0.06335671 0.06342026 0.06348139 0.06354102 0.06359974\n",
      " 0.06365791 0.06371578 0.06377348 0.06383111]\n"
     ]
    },
    {
     "name": "stdout",
     "output_type": "stream",
     "text": [
      "16 day output [[0.06388869]]\n",
      "17 day input [0.06179335 0.05860184 0.05514749 0.0521531  0.05040246 0.05781334\n",
      " 0.05870978 0.06043226 0.05723136 0.06124422 0.06135217 0.06996926\n",
      " 0.06983784 0.07039166 0.06425739 0.06964541 0.06750053 0.06729871\n",
      " 0.06589538 0.07766644 0.07480346 0.07659634 0.07882102 0.07804661\n",
      " 0.07377091 0.07434351 0.07250839 0.06927463 0.06419637 0.06518668\n",
      " 0.06383967 0.06214066 0.06490038 0.06670265 0.06735034 0.06497078\n",
      " 0.07183723 0.07131626 0.07154155 0.07113792 0.07299181 0.07269613\n",
      " 0.07076244 0.06712506 0.06843921 0.0688757  0.06316382 0.05257081\n",
      " 0.04875977 0.04880201 0.05088588 0.04896158 0.04583578 0.04655856\n",
      " 0.04189332 0.04352662 0.04578884 0.05181987 0.05250041 0.05217657\n",
      " 0.05354235 0.05350949 0.04781639 0.05000821 0.05426044 0.0606904\n",
      " 0.06323892 0.05889752 0.05923075 0.05984089 0.0624692  0.05918851\n",
      " 0.05977049 0.06006618 0.06505996 0.06384906 0.06194354 0.06135686\n",
      " 0.05983151 0.06130524 0.06161031 0.06314505 0.06370826 0.06254017\n",
      " 0.06272699 0.06289143 0.06302339 0.06312825 0.06321447 0.06328905\n",
      " 0.06335671 0.06342026 0.06348139 0.06354102 0.06359974 0.06365791\n",
      " 0.06371578 0.06377348 0.06383111 0.06388869]\n",
      "17 day output [[0.06394622]]\n",
      "18 day input [0.05860184 0.05514749 0.0521531  0.05040246 0.05781334 0.05870978\n",
      " 0.06043226 0.05723136 0.06124422 0.06135217 0.06996926 0.06983784\n",
      " 0.07039166 0.06425739 0.06964541 0.06750053 0.06729871 0.06589538\n",
      " 0.07766644 0.07480346 0.07659634 0.07882102 0.07804661 0.07377091\n",
      " 0.07434351 0.07250839 0.06927463 0.06419637 0.06518668 0.06383967\n",
      " 0.06214066 0.06490038 0.06670265 0.06735034 0.06497078 0.07183723\n",
      " 0.07131626 0.07154155 0.07113792 0.07299181 0.07269613 0.07076244\n",
      " 0.06712506 0.06843921 0.0688757  0.06316382 0.05257081 0.04875977\n",
      " 0.04880201 0.05088588 0.04896158 0.04583578 0.04655856 0.04189332\n",
      " 0.04352662 0.04578884 0.05181987 0.05250041 0.05217657 0.05354235\n",
      " 0.05350949 0.04781639 0.05000821 0.05426044 0.0606904  0.06323892\n",
      " 0.05889752 0.05923075 0.05984089 0.0624692  0.05918851 0.05977049\n",
      " 0.06006618 0.06505996 0.06384906 0.06194354 0.06135686 0.05983151\n",
      " 0.06130524 0.06161031 0.06314505 0.06370826 0.06254017 0.06272699\n",
      " 0.06289143 0.06302339 0.06312825 0.06321447 0.06328905 0.06335671\n",
      " 0.06342026 0.06348139 0.06354102 0.06359974 0.06365791 0.06371578\n",
      " 0.06377348 0.06383111 0.06388869 0.06394622]\n",
      "18 day output [[0.06400366]]\n",
      "19 day input [0.05514749 0.0521531  0.05040246 0.05781334 0.05870978 0.06043226\n",
      " 0.05723136 0.06124422 0.06135217 0.06996926 0.06983784 0.07039166\n",
      " 0.06425739 0.06964541 0.06750053 0.06729871 0.06589538 0.07766644\n",
      " 0.07480346 0.07659634 0.07882102 0.07804661 0.07377091 0.07434351\n",
      " 0.07250839 0.06927463 0.06419637 0.06518668 0.06383967 0.06214066\n",
      " 0.06490038 0.06670265 0.06735034 0.06497078 0.07183723 0.07131626\n",
      " 0.07154155 0.07113792 0.07299181 0.07269613 0.07076244 0.06712506\n",
      " 0.06843921 0.0688757  0.06316382 0.05257081 0.04875977 0.04880201\n",
      " 0.05088588 0.04896158 0.04583578 0.04655856 0.04189332 0.04352662\n",
      " 0.04578884 0.05181987 0.05250041 0.05217657 0.05354235 0.05350949\n",
      " 0.04781639 0.05000821 0.05426044 0.0606904  0.06323892 0.05889752\n",
      " 0.05923075 0.05984089 0.0624692  0.05918851 0.05977049 0.06006618\n",
      " 0.06505996 0.06384906 0.06194354 0.06135686 0.05983151 0.06130524\n",
      " 0.06161031 0.06314505 0.06370826 0.06254017 0.06272699 0.06289143\n",
      " 0.06302339 0.06312825 0.06321447 0.06328905 0.06335671 0.06342026\n",
      " 0.06348139 0.06354102 0.06359974 0.06365791 0.06371578 0.06377348\n",
      " 0.06383111 0.06388869 0.06394622 0.06400366]\n",
      "19 day output [[0.06406096]]\n",
      "20 day input [0.0521531  0.05040246 0.05781334 0.05870978 0.06043226 0.05723136\n",
      " 0.06124422 0.06135217 0.06996926 0.06983784 0.07039166 0.06425739\n",
      " 0.06964541 0.06750053 0.06729871 0.06589538 0.07766644 0.07480346\n",
      " 0.07659634 0.07882102 0.07804661 0.07377091 0.07434351 0.07250839\n",
      " 0.06927463 0.06419637 0.06518668 0.06383967 0.06214066 0.06490038\n",
      " 0.06670265 0.06735034 0.06497078 0.07183723 0.07131626 0.07154155\n",
      " 0.07113792 0.07299181 0.07269613 0.07076244 0.06712506 0.06843921\n",
      " 0.0688757  0.06316382 0.05257081 0.04875977 0.04880201 0.05088588\n",
      " 0.04896158 0.04583578 0.04655856 0.04189332 0.04352662 0.04578884\n",
      " 0.05181987 0.05250041 0.05217657 0.05354235 0.05350949 0.04781639\n",
      " 0.05000821 0.05426044 0.0606904  0.06323892 0.05889752 0.05923075\n",
      " 0.05984089 0.0624692  0.05918851 0.05977049 0.06006618 0.06505996\n",
      " 0.06384906 0.06194354 0.06135686 0.05983151 0.06130524 0.06161031\n",
      " 0.06314505 0.06370826 0.06254017 0.06272699 0.06289143 0.06302339\n",
      " 0.06312825 0.06321447 0.06328905 0.06335671 0.06342026 0.06348139\n",
      " 0.06354102 0.06359974 0.06365791 0.06371578 0.06377348 0.06383111\n",
      " 0.06388869 0.06394622 0.06400366 0.06406096]\n",
      "20 day output [[0.06411804]]\n",
      "21 day input [0.05040246 0.05781334 0.05870978 0.06043226 0.05723136 0.06124422\n",
      " 0.06135217 0.06996926 0.06983784 0.07039166 0.06425739 0.06964541\n",
      " 0.06750053 0.06729871 0.06589538 0.07766644 0.07480346 0.07659634\n",
      " 0.07882102 0.07804661 0.07377091 0.07434351 0.07250839 0.06927463\n",
      " 0.06419637 0.06518668 0.06383967 0.06214066 0.06490038 0.06670265\n",
      " 0.06735034 0.06497078 0.07183723 0.07131626 0.07154155 0.07113792\n",
      " 0.07299181 0.07269613 0.07076244 0.06712506 0.06843921 0.0688757\n",
      " 0.06316382 0.05257081 0.04875977 0.04880201 0.05088588 0.04896158\n",
      " 0.04583578 0.04655856 0.04189332 0.04352662 0.04578884 0.05181987\n",
      " 0.05250041 0.05217657 0.05354235 0.05350949 0.04781639 0.05000821\n",
      " 0.05426044 0.0606904  0.06323892 0.05889752 0.05923075 0.05984089\n",
      " 0.0624692  0.05918851 0.05977049 0.06006618 0.06505996 0.06384906\n",
      " 0.06194354 0.06135686 0.05983151 0.06130524 0.06161031 0.06314505\n",
      " 0.06370826 0.06254017 0.06272699 0.06289143 0.06302339 0.06312825\n",
      " 0.06321447 0.06328905 0.06335671 0.06342026 0.06348139 0.06354102\n",
      " 0.06359974 0.06365791 0.06371578 0.06377348 0.06383111 0.06388869\n",
      " 0.06394622 0.06400366 0.06406096 0.06411804]\n",
      "21 day output [[0.06417484]]\n",
      "22 day input [0.05781334 0.05870978 0.06043226 0.05723136 0.06124422 0.06135217\n",
      " 0.06996926 0.06983784 0.07039166 0.06425739 0.06964541 0.06750053\n",
      " 0.06729871 0.06589538 0.07766644 0.07480346 0.07659634 0.07882102\n",
      " 0.07804661 0.07377091 0.07434351 0.07250839 0.06927463 0.06419637\n",
      " 0.06518668 0.06383967 0.06214066 0.06490038 0.06670265 0.06735034\n",
      " 0.06497078 0.07183723 0.07131626 0.07154155 0.07113792 0.07299181\n",
      " 0.07269613 0.07076244 0.06712506 0.06843921 0.0688757  0.06316382\n",
      " 0.05257081 0.04875977 0.04880201 0.05088588 0.04896158 0.04583578\n",
      " 0.04655856 0.04189332 0.04352662 0.04578884 0.05181987 0.05250041\n",
      " 0.05217657 0.05354235 0.05350949 0.04781639 0.05000821 0.05426044\n",
      " 0.0606904  0.06323892 0.05889752 0.05923075 0.05984089 0.0624692\n",
      " 0.05918851 0.05977049 0.06006618 0.06505996 0.06384906 0.06194354\n",
      " 0.06135686 0.05983151 0.06130524 0.06161031 0.06314505 0.06370826\n",
      " 0.06254017 0.06272699 0.06289143 0.06302339 0.06312825 0.06321447\n",
      " 0.06328905 0.06335671 0.06342026 0.06348139 0.06354102 0.06359974\n",
      " 0.06365791 0.06371578 0.06377348 0.06383111 0.06388869 0.06394622\n",
      " 0.06400366 0.06406096 0.06411804 0.06417484]\n",
      "22 day output [[0.06423129]]\n",
      "23 day input [0.05870978 0.06043226 0.05723136 0.06124422 0.06135217 0.06996926\n",
      " 0.06983784 0.07039166 0.06425739 0.06964541 0.06750053 0.06729871\n",
      " 0.06589538 0.07766644 0.07480346 0.07659634 0.07882102 0.07804661\n",
      " 0.07377091 0.07434351 0.07250839 0.06927463 0.06419637 0.06518668\n",
      " 0.06383967 0.06214066 0.06490038 0.06670265 0.06735034 0.06497078\n",
      " 0.07183723 0.07131626 0.07154155 0.07113792 0.07299181 0.07269613\n",
      " 0.07076244 0.06712506 0.06843921 0.0688757  0.06316382 0.05257081\n",
      " 0.04875977 0.04880201 0.05088588 0.04896158 0.04583578 0.04655856\n",
      " 0.04189332 0.04352662 0.04578884 0.05181987 0.05250041 0.05217657\n",
      " 0.05354235 0.05350949 0.04781639 0.05000821 0.05426044 0.0606904\n",
      " 0.06323892 0.05889752 0.05923075 0.05984089 0.0624692  0.05918851\n",
      " 0.05977049 0.06006618 0.06505996 0.06384906 0.06194354 0.06135686\n",
      " 0.05983151 0.06130524 0.06161031 0.06314505 0.06370826 0.06254017\n",
      " 0.06272699 0.06289143 0.06302339 0.06312825 0.06321447 0.06328905\n",
      " 0.06335671 0.06342026 0.06348139 0.06354102 0.06359974 0.06365791\n",
      " 0.06371578 0.06377348 0.06383111 0.06388869 0.06394622 0.06400366\n",
      " 0.06406096 0.06411804 0.06417484 0.06423129]\n",
      "23 day output [[0.06428736]]\n",
      "24 day input [0.06043226 0.05723136 0.06124422 0.06135217 0.06996926 0.06983784\n",
      " 0.07039166 0.06425739 0.06964541 0.06750053 0.06729871 0.06589538\n",
      " 0.07766644 0.07480346 0.07659634 0.07882102 0.07804661 0.07377091\n",
      " 0.07434351 0.07250839 0.06927463 0.06419637 0.06518668 0.06383967\n",
      " 0.06214066 0.06490038 0.06670265 0.06735034 0.06497078 0.07183723\n",
      " 0.07131626 0.07154155 0.07113792 0.07299181 0.07269613 0.07076244\n",
      " 0.06712506 0.06843921 0.0688757  0.06316382 0.05257081 0.04875977\n",
      " 0.04880201 0.05088588 0.04896158 0.04583578 0.04655856 0.04189332\n",
      " 0.04352662 0.04578884 0.05181987 0.05250041 0.05217657 0.05354235\n",
      " 0.05350949 0.04781639 0.05000821 0.05426044 0.0606904  0.06323892\n",
      " 0.05889752 0.05923075 0.05984089 0.0624692  0.05918851 0.05977049\n",
      " 0.06006618 0.06505996 0.06384906 0.06194354 0.06135686 0.05983151\n",
      " 0.06130524 0.06161031 0.06314505 0.06370826 0.06254017 0.06272699\n",
      " 0.06289143 0.06302339 0.06312825 0.06321447 0.06328905 0.06335671\n",
      " 0.06342026 0.06348139 0.06354102 0.06359974 0.06365791 0.06371578\n",
      " 0.06377348 0.06383111 0.06388869 0.06394622 0.06400366 0.06406096\n",
      " 0.06411804 0.06417484 0.06423129 0.06428736]\n",
      "24 day output [[0.06434297]]\n",
      "25 day input [0.05723136 0.06124422 0.06135217 0.06996926 0.06983784 0.07039166\n",
      " 0.06425739 0.06964541 0.06750053 0.06729871 0.06589538 0.07766644\n",
      " 0.07480346 0.07659634 0.07882102 0.07804661 0.07377091 0.07434351\n",
      " 0.07250839 0.06927463 0.06419637 0.06518668 0.06383967 0.06214066\n",
      " 0.06490038 0.06670265 0.06735034 0.06497078 0.07183723 0.07131626\n",
      " 0.07154155 0.07113792 0.07299181 0.07269613 0.07076244 0.06712506\n",
      " 0.06843921 0.0688757  0.06316382 0.05257081 0.04875977 0.04880201\n",
      " 0.05088588 0.04896158 0.04583578 0.04655856 0.04189332 0.04352662\n",
      " 0.04578884 0.05181987 0.05250041 0.05217657 0.05354235 0.05350949\n",
      " 0.04781639 0.05000821 0.05426044 0.0606904  0.06323892 0.05889752\n",
      " 0.05923075 0.05984089 0.0624692  0.05918851 0.05977049 0.06006618\n",
      " 0.06505996 0.06384906 0.06194354 0.06135686 0.05983151 0.06130524\n",
      " 0.06161031 0.06314505 0.06370826 0.06254017 0.06272699 0.06289143\n",
      " 0.06302339 0.06312825 0.06321447 0.06328905 0.06335671 0.06342026\n",
      " 0.06348139 0.06354102 0.06359974 0.06365791 0.06371578 0.06377348\n",
      " 0.06383111 0.06388869 0.06394622 0.06400366 0.06406096 0.06411804\n",
      " 0.06417484 0.06423129 0.06428736 0.06434297]\n",
      "25 day output [[0.06439807]]\n",
      "26 day input [0.06124422 0.06135217 0.06996926 0.06983784 0.07039166 0.06425739\n",
      " 0.06964541 0.06750053 0.06729871 0.06589538 0.07766644 0.07480346\n",
      " 0.07659634 0.07882102 0.07804661 0.07377091 0.07434351 0.07250839\n",
      " 0.06927463 0.06419637 0.06518668 0.06383967 0.06214066 0.06490038\n",
      " 0.06670265 0.06735034 0.06497078 0.07183723 0.07131626 0.07154155\n",
      " 0.07113792 0.07299181 0.07269613 0.07076244 0.06712506 0.06843921\n",
      " 0.0688757  0.06316382 0.05257081 0.04875977 0.04880201 0.05088588\n",
      " 0.04896158 0.04583578 0.04655856 0.04189332 0.04352662 0.04578884\n",
      " 0.05181987 0.05250041 0.05217657 0.05354235 0.05350949 0.04781639\n",
      " 0.05000821 0.05426044 0.0606904  0.06323892 0.05889752 0.05923075\n",
      " 0.05984089 0.0624692  0.05918851 0.05977049 0.06006618 0.06505996\n",
      " 0.06384906 0.06194354 0.06135686 0.05983151 0.06130524 0.06161031\n",
      " 0.06314505 0.06370826 0.06254017 0.06272699 0.06289143 0.06302339\n",
      " 0.06312825 0.06321447 0.06328905 0.06335671 0.06342026 0.06348139\n",
      " 0.06354102 0.06359974 0.06365791 0.06371578 0.06377348 0.06383111\n",
      " 0.06388869 0.06394622 0.06400366 0.06406096 0.06411804 0.06417484\n",
      " 0.06423129 0.06428736 0.06434297 0.06439807]\n",
      "26 day output [[0.06445265]]\n",
      "27 day input [0.06135217 0.06996926 0.06983784 0.07039166 0.06425739 0.06964541\n",
      " 0.06750053 0.06729871 0.06589538 0.07766644 0.07480346 0.07659634\n",
      " 0.07882102 0.07804661 0.07377091 0.07434351 0.07250839 0.06927463\n",
      " 0.06419637 0.06518668 0.06383967 0.06214066 0.06490038 0.06670265\n",
      " 0.06735034 0.06497078 0.07183723 0.07131626 0.07154155 0.07113792\n",
      " 0.07299181 0.07269613 0.07076244 0.06712506 0.06843921 0.0688757\n",
      " 0.06316382 0.05257081 0.04875977 0.04880201 0.05088588 0.04896158\n",
      " 0.04583578 0.04655856 0.04189332 0.04352662 0.04578884 0.05181987\n",
      " 0.05250041 0.05217657 0.05354235 0.05350949 0.04781639 0.05000821\n",
      " 0.05426044 0.0606904  0.06323892 0.05889752 0.05923075 0.05984089\n",
      " 0.0624692  0.05918851 0.05977049 0.06006618 0.06505996 0.06384906\n",
      " 0.06194354 0.06135686 0.05983151 0.06130524 0.06161031 0.06314505\n",
      " 0.06370826 0.06254017 0.06272699 0.06289143 0.06302339 0.06312825\n",
      " 0.06321447 0.06328905 0.06335671 0.06342026 0.06348139 0.06354102\n",
      " 0.06359974 0.06365791 0.06371578 0.06377348 0.06383111 0.06388869\n",
      " 0.06394622 0.06400366 0.06406096 0.06411804 0.06417484 0.06423129\n",
      " 0.06428736 0.06434297 0.06439807 0.06445265]\n"
     ]
    },
    {
     "name": "stdout",
     "output_type": "stream",
     "text": [
      "27 day output [[0.06450661]]\n",
      "28 day input [0.06996926 0.06983784 0.07039166 0.06425739 0.06964541 0.06750053\n",
      " 0.06729871 0.06589538 0.07766644 0.07480346 0.07659634 0.07882102\n",
      " 0.07804661 0.07377091 0.07434351 0.07250839 0.06927463 0.06419637\n",
      " 0.06518668 0.06383967 0.06214066 0.06490038 0.06670265 0.06735034\n",
      " 0.06497078 0.07183723 0.07131626 0.07154155 0.07113792 0.07299181\n",
      " 0.07269613 0.07076244 0.06712506 0.06843921 0.0688757  0.06316382\n",
      " 0.05257081 0.04875977 0.04880201 0.05088588 0.04896158 0.04583578\n",
      " 0.04655856 0.04189332 0.04352662 0.04578884 0.05181987 0.05250041\n",
      " 0.05217657 0.05354235 0.05350949 0.04781639 0.05000821 0.05426044\n",
      " 0.0606904  0.06323892 0.05889752 0.05923075 0.05984089 0.0624692\n",
      " 0.05918851 0.05977049 0.06006618 0.06505996 0.06384906 0.06194354\n",
      " 0.06135686 0.05983151 0.06130524 0.06161031 0.06314505 0.06370826\n",
      " 0.06254017 0.06272699 0.06289143 0.06302339 0.06312825 0.06321447\n",
      " 0.06328905 0.06335671 0.06342026 0.06348139 0.06354102 0.06359974\n",
      " 0.06365791 0.06371578 0.06377348 0.06383111 0.06388869 0.06394622\n",
      " 0.06400366 0.06406096 0.06411804 0.06417484 0.06423129 0.06428736\n",
      " 0.06434297 0.06439807 0.06445265 0.06450661]\n",
      "28 day output [[0.06455997]]\n",
      "29 day input [0.06983784 0.07039166 0.06425739 0.06964541 0.06750053 0.06729871\n",
      " 0.06589538 0.07766644 0.07480346 0.07659634 0.07882102 0.07804661\n",
      " 0.07377091 0.07434351 0.07250839 0.06927463 0.06419637 0.06518668\n",
      " 0.06383967 0.06214066 0.06490038 0.06670265 0.06735034 0.06497078\n",
      " 0.07183723 0.07131626 0.07154155 0.07113792 0.07299181 0.07269613\n",
      " 0.07076244 0.06712506 0.06843921 0.0688757  0.06316382 0.05257081\n",
      " 0.04875977 0.04880201 0.05088588 0.04896158 0.04583578 0.04655856\n",
      " 0.04189332 0.04352662 0.04578884 0.05181987 0.05250041 0.05217657\n",
      " 0.05354235 0.05350949 0.04781639 0.05000821 0.05426044 0.0606904\n",
      " 0.06323892 0.05889752 0.05923075 0.05984089 0.0624692  0.05918851\n",
      " 0.05977049 0.06006618 0.06505996 0.06384906 0.06194354 0.06135686\n",
      " 0.05983151 0.06130524 0.06161031 0.06314505 0.06370826 0.06254017\n",
      " 0.06272699 0.06289143 0.06302339 0.06312825 0.06321447 0.06328905\n",
      " 0.06335671 0.06342026 0.06348139 0.06354102 0.06359974 0.06365791\n",
      " 0.06371578 0.06377348 0.06383111 0.06388869 0.06394622 0.06400366\n",
      " 0.06406096 0.06411804 0.06417484 0.06423129 0.06428736 0.06434297\n",
      " 0.06439807 0.06445265 0.06450661 0.06455997]\n",
      "29 day output [[0.06461269]]\n",
      "[[0.06272698938846588], [0.06289143115282059], [0.0630233883857727], [0.06312824785709381], [0.06321447342634201], [0.06328905373811722], [0.06335670500993729], [0.06342025846242905], [0.0634813904762268], [0.06354101747274399], [0.06359974294900894], [0.06365790963172913], [0.06371577829122543], [0.06377348303794861], [0.06383111327886581], [0.06388869136571884], [0.06394622474908829], [0.06400366127490997], [0.06406095623970032], [0.06411804258823395], [0.0641748383641243], [0.06423129141330719], [0.06428736448287964], [0.06434296816587448], [0.06439807265996933], [0.0644526481628418], [0.06450660526752472], [0.06455997377634048], [0.06461268663406372]]\n"
     ]
    }
   ],
   "source": [
    "from numpy import array\n",
    "\n",
    "first_output = []\n",
    "n_steps = 100\n",
    "i = 0\n",
    "while(i<30):\n",
    "    \n",
    "    if(len(temp_input)>100):\n",
    "        x_input = np.array(temp_input[1:])\n",
    "        print(\"{} day input {}\".format(i,x_input))\n",
    "        x_input = x_input.reshape(1,-1)\n",
    "        x_input = x_input.reshape((1, n_steps, 1))\n",
    "        yhat = model.predict(x_input, verbose=0)\n",
    "        print(\"{} day output {}\".format(i, yhat))\n",
    "        temp_input.extend(yhat[0].tolist())\n",
    "        temp_input = temp_input[1:]\n",
    "        first_output.extend(yhat.tolist())\n",
    "        i=i+1\n",
    "    else:\n",
    "        x_input = x_input.reshape((1, n_steps, 1))\n",
    "        yhat = model.predict(x_input, verbose=0)\n",
    "        print(yhat[0])\n",
    "        temp_input.extend(yhat[0].tolist())\n",
    "        i = i + 1\n",
    "        \n",
    "print(first_output)"
   ]
  },
  {
   "cell_type": "code",
   "execution_count": 37,
   "id": "25886463",
   "metadata": {},
   "outputs": [],
   "source": [
    "day_new = np.arange(1,101)\n",
    "day_pred = np.arange(102,131)"
   ]
  },
  {
   "cell_type": "code",
   "execution_count": 38,
   "id": "d96c7805",
   "metadata": {},
   "outputs": [],
   "source": [
    "import matplotlib.pyplot as plt"
   ]
  },
  {
   "cell_type": "code",
   "execution_count": 39,
   "id": "74fc2c0e",
   "metadata": {},
   "outputs": [
    {
     "data": {
      "text/plain": [
       "1259"
      ]
     },
     "execution_count": 39,
     "metadata": {},
     "output_type": "execute_result"
    }
   ],
   "source": [
    "len(df1)"
   ]
  },
  {
   "cell_type": "code",
   "execution_count": 40,
   "id": "1c9c7ffe",
   "metadata": {},
   "outputs": [],
   "source": [
    "df3 = df1.tolist()\n",
    "df3.extend(first_output)"
   ]
  },
  {
   "cell_type": "code",
   "execution_count": 41,
   "id": "b50a2833",
   "metadata": {},
   "outputs": [
    {
     "data": {
      "text/plain": [
       "[<matplotlib.lines.Line2D at 0x1d660250370>]"
      ]
     },
     "execution_count": 41,
     "metadata": {},
     "output_type": "execute_result"
    },
    {
     "data": {
      "image/png": "[encoded data removed]",
      "text/plain": [
       "<Figure size 640x480 with 1 Axes>"
      ]
     },
     "metadata": {},
     "output_type": "display_data"
    }
   ],
   "source": [
    "plt.plot(day_new,scaler.inverse_transform(df1[1159:]))\n",
    "plt.plot(day_pred,scaler.inverse_transform(first_output))"
   ]
  },
  {
   "cell_type": "code",
   "execution_count": 42,
   "id": "23165a1b",
   "metadata": {},
   "outputs": [
    {
     "data": {
      "text/plain": [
       "[<matplotlib.lines.Line2D at 0x1d6633df190>]"
      ]
     },
     "execution_count": 42,
     "metadata": {},
     "output_type": "execute_result"
    },
    {
     "data": {
      "image/png": "[encoded data removed]",
      "text/plain": [
       "<Figure size 640x480 with 1 Axes>"
      ]
     },
     "metadata": {},
     "output_type": "display_data"
    }
   ],
   "source": [
    "df3 = df1.tolist()\n",
    "df3.extend(first_output)\n",
    "plt.plot(df3[1200:])"
   ]
  },
  {
   "cell_type": "code",
   "execution_count": null,
   "id": "bb894fa1",
   "metadata": {},
   "outputs": [],
   "source": []
  },
  {
   "cell_type": "code",
   "execution_count": null,
   "id": "df0edf67",
   "metadata": {},
   "outputs": [],
   "source": []
  },
  {
   "cell_type": "code",
   "execution_count": null,
   "id": "b5484999",
   "metadata": {},
   "outputs": [],
   "source": []
  },
  {
   "cell_type": "code",
   "execution_count": null,
   "id": "5d06d269",
   "metadata": {},
   "outputs": [],
   "source": []
  }
 ],
 "metadata": {
  "kernelspec": {
   "display_name": "Python 3 (ipykernel)",
   "language": "python",
   "name": "python3"
  },
  "language_info": {
   "codemirror_mode": {
    "name": "ipython",
    "version": 3
   },
   "file_extension": ".py",
   "mimetype": "text/x-python",
   "name": "python",
   "nbconvert_exporter": "python",
   "pygments_lexer": "ipython3",
   "version": "3.10.9"
  }
 },
 "nbformat": 4,
 "nbformat_minor": 5
}
